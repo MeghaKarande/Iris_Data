{
 "cells": [
  {
   "cell_type": "markdown",
   "id": "49f333fc",
   "metadata": {},
   "source": [
    "# Iris Data"
   ]
  },
  {
   "cell_type": "code",
   "execution_count": 91,
   "id": "9689c1f6",
   "metadata": {},
   "outputs": [],
   "source": [
    "import pandas as pd\n",
    "import numpy as np\n",
    "\n",
    "import seaborn as sns\n",
    "import matplotlib.pyplot as plt\n",
    "\n",
    "from sklearn.linear_model import LogisticRegression\n",
    "from sklearn.model_selection import train_test_split, GridSearchCV, RandomizedSearchCV\n",
    "\n",
    "from sklearn.preprocessing import MinMaxScaler, StandardScaler\n",
    "from sklearn.neighbors import KNeighborsClassifier\n",
    "from sklearn.tree import DecisionTreeClassifier\n",
    "from sklearn.ensemble import RandomForestClassifier\n",
    "from sklearn.ensemble import AdaBoostClassifier\n",
    "\n",
    "from sklearn.metrics import accuracy_score, precision_score, recall_score, f1_score\n",
    "from sklearn.metrics import classification_report, confusion_matrix, multilabel_confusion_matrix\n",
    "from sklearn.metrics import plot_confusion_matrix\n",
    "from sklearn.metrics import roc_curve\n",
    "from sklearn.metrics import auc\n",
    "\n",
    "import warnings\n",
    "warnings.filterwarnings(\"ignore\")\n",
    "\n",
    "import pickle\n",
    "import json"
   ]
  },
  {
   "cell_type": "code",
   "execution_count": 92,
   "id": "ae3abf9f",
   "metadata": {},
   "outputs": [],
   "source": [
    "model_details = []\n",
    "training_accuracy_list = []\n",
    "testing_accuracy_list = []"
   ]
  },
  {
   "cell_type": "markdown",
   "id": "816490e2",
   "metadata": {},
   "source": [
    "## Problem Statement"
   ]
  },
  {
   "cell_type": "raw",
   "id": "7ed85455",
   "metadata": {},
   "source": [
    "To Predict the Species of Flower using Supervised Machine Learning Classification Model"
   ]
  },
  {
   "cell_type": "markdown",
   "id": "e6ef24ef",
   "metadata": {},
   "source": [
    "## Data Gathering"
   ]
  },
  {
   "cell_type": "code",
   "execution_count": 93,
   "id": "42d5254c",
   "metadata": {},
   "outputs": [
    {
     "data": {
      "text/html": [
       "<div>\n",
       "<style scoped>\n",
       "    .dataframe tbody tr th:only-of-type {\n",
       "        vertical-align: middle;\n",
       "    }\n",
       "\n",
       "    .dataframe tbody tr th {\n",
       "        vertical-align: top;\n",
       "    }\n",
       "\n",
       "    .dataframe thead th {\n",
       "        text-align: right;\n",
       "    }\n",
       "</style>\n",
       "<table border=\"1\" class=\"dataframe\">\n",
       "  <thead>\n",
       "    <tr style=\"text-align: right;\">\n",
       "      <th></th>\n",
       "      <th>Id</th>\n",
       "      <th>SepalLengthCm</th>\n",
       "      <th>SepalWidthCm</th>\n",
       "      <th>PetalLengthCm</th>\n",
       "      <th>PetalWidthCm</th>\n",
       "      <th>Species</th>\n",
       "    </tr>\n",
       "  </thead>\n",
       "  <tbody>\n",
       "    <tr>\n",
       "      <th>0</th>\n",
       "      <td>1</td>\n",
       "      <td>5.1</td>\n",
       "      <td>3.5</td>\n",
       "      <td>1.4</td>\n",
       "      <td>0.2</td>\n",
       "      <td>Iris-setosa</td>\n",
       "    </tr>\n",
       "    <tr>\n",
       "      <th>1</th>\n",
       "      <td>2</td>\n",
       "      <td>4.9</td>\n",
       "      <td>3.0</td>\n",
       "      <td>1.4</td>\n",
       "      <td>0.2</td>\n",
       "      <td>Iris-setosa</td>\n",
       "    </tr>\n",
       "    <tr>\n",
       "      <th>2</th>\n",
       "      <td>3</td>\n",
       "      <td>4.7</td>\n",
       "      <td>3.2</td>\n",
       "      <td>1.3</td>\n",
       "      <td>0.2</td>\n",
       "      <td>Iris-setosa</td>\n",
       "    </tr>\n",
       "    <tr>\n",
       "      <th>3</th>\n",
       "      <td>4</td>\n",
       "      <td>4.6</td>\n",
       "      <td>3.1</td>\n",
       "      <td>1.5</td>\n",
       "      <td>0.2</td>\n",
       "      <td>Iris-setosa</td>\n",
       "    </tr>\n",
       "    <tr>\n",
       "      <th>4</th>\n",
       "      <td>5</td>\n",
       "      <td>5.0</td>\n",
       "      <td>3.6</td>\n",
       "      <td>1.4</td>\n",
       "      <td>0.2</td>\n",
       "      <td>Iris-setosa</td>\n",
       "    </tr>\n",
       "    <tr>\n",
       "      <th>...</th>\n",
       "      <td>...</td>\n",
       "      <td>...</td>\n",
       "      <td>...</td>\n",
       "      <td>...</td>\n",
       "      <td>...</td>\n",
       "      <td>...</td>\n",
       "    </tr>\n",
       "    <tr>\n",
       "      <th>145</th>\n",
       "      <td>146</td>\n",
       "      <td>6.7</td>\n",
       "      <td>3.0</td>\n",
       "      <td>5.2</td>\n",
       "      <td>2.3</td>\n",
       "      <td>Iris-virginica</td>\n",
       "    </tr>\n",
       "    <tr>\n",
       "      <th>146</th>\n",
       "      <td>147</td>\n",
       "      <td>6.3</td>\n",
       "      <td>2.5</td>\n",
       "      <td>5.0</td>\n",
       "      <td>1.9</td>\n",
       "      <td>Iris-virginica</td>\n",
       "    </tr>\n",
       "    <tr>\n",
       "      <th>147</th>\n",
       "      <td>148</td>\n",
       "      <td>6.5</td>\n",
       "      <td>3.0</td>\n",
       "      <td>5.2</td>\n",
       "      <td>2.0</td>\n",
       "      <td>Iris-virginica</td>\n",
       "    </tr>\n",
       "    <tr>\n",
       "      <th>148</th>\n",
       "      <td>149</td>\n",
       "      <td>6.2</td>\n",
       "      <td>3.4</td>\n",
       "      <td>5.4</td>\n",
       "      <td>2.3</td>\n",
       "      <td>Iris-virginica</td>\n",
       "    </tr>\n",
       "    <tr>\n",
       "      <th>149</th>\n",
       "      <td>150</td>\n",
       "      <td>5.9</td>\n",
       "      <td>3.0</td>\n",
       "      <td>5.1</td>\n",
       "      <td>1.8</td>\n",
       "      <td>Iris-virginica</td>\n",
       "    </tr>\n",
       "  </tbody>\n",
       "</table>\n",
       "<p>150 rows × 6 columns</p>\n",
       "</div>"
      ],
      "text/plain": [
       "      Id  SepalLengthCm  SepalWidthCm  PetalLengthCm  PetalWidthCm  \\\n",
       "0      1            5.1           3.5            1.4           0.2   \n",
       "1      2            4.9           3.0            1.4           0.2   \n",
       "2      3            4.7           3.2            1.3           0.2   \n",
       "3      4            4.6           3.1            1.5           0.2   \n",
       "4      5            5.0           3.6            1.4           0.2   \n",
       "..   ...            ...           ...            ...           ...   \n",
       "145  146            6.7           3.0            5.2           2.3   \n",
       "146  147            6.3           2.5            5.0           1.9   \n",
       "147  148            6.5           3.0            5.2           2.0   \n",
       "148  149            6.2           3.4            5.4           2.3   \n",
       "149  150            5.9           3.0            5.1           1.8   \n",
       "\n",
       "            Species  \n",
       "0       Iris-setosa  \n",
       "1       Iris-setosa  \n",
       "2       Iris-setosa  \n",
       "3       Iris-setosa  \n",
       "4       Iris-setosa  \n",
       "..              ...  \n",
       "145  Iris-virginica  \n",
       "146  Iris-virginica  \n",
       "147  Iris-virginica  \n",
       "148  Iris-virginica  \n",
       "149  Iris-virginica  \n",
       "\n",
       "[150 rows x 6 columns]"
      ]
     },
     "execution_count": 93,
     "metadata": {},
     "output_type": "execute_result"
    }
   ],
   "source": [
    "df = pd.read_csv(\"Iris.csv\")\n",
    "df"
   ]
  },
  {
   "cell_type": "code",
   "execution_count": 94,
   "id": "78bf7b0e",
   "metadata": {},
   "outputs": [
    {
     "name": "stdout",
     "output_type": "stream",
     "text": [
      "<class 'pandas.core.frame.DataFrame'>\n",
      "RangeIndex: 150 entries, 0 to 149\n",
      "Data columns (total 6 columns):\n",
      " #   Column         Non-Null Count  Dtype  \n",
      "---  ------         --------------  -----  \n",
      " 0   Id             150 non-null    int64  \n",
      " 1   SepalLengthCm  150 non-null    float64\n",
      " 2   SepalWidthCm   150 non-null    float64\n",
      " 3   PetalLengthCm  150 non-null    float64\n",
      " 4   PetalWidthCm   150 non-null    float64\n",
      " 5   Species        150 non-null    object \n",
      "dtypes: float64(4), int64(1), object(1)\n",
      "memory usage: 7.2+ KB\n"
     ]
    }
   ],
   "source": [
    "df.info()"
   ]
  },
  {
   "cell_type": "code",
   "execution_count": 95,
   "id": "fdb9fb42",
   "metadata": {},
   "outputs": [
    {
     "data": {
      "text/plain": [
       "Id               0\n",
       "SepalLengthCm    0\n",
       "SepalWidthCm     0\n",
       "PetalLengthCm    0\n",
       "PetalWidthCm     0\n",
       "Species          0\n",
       "dtype: int64"
      ]
     },
     "execution_count": 95,
     "metadata": {},
     "output_type": "execute_result"
    }
   ],
   "source": [
    "df.isna().sum()"
   ]
  },
  {
   "cell_type": "code",
   "execution_count": 96,
   "id": "40dd45a1",
   "metadata": {},
   "outputs": [
    {
     "data": {
      "text/plain": [
       "<AxesSubplot:xlabel='PetalWidthCm'>"
      ]
     },
     "execution_count": 96,
     "metadata": {},
     "output_type": "execute_result"
    }
   ],
   "source": [
    "df.boxplot()"
   ]
  },
  {
   "cell_type": "markdown",
   "id": "2ec96548",
   "metadata": {},
   "source": [
    "### 1. SepalLengthCm"
   ]
  },
  {
   "cell_type": "code",
   "execution_count": 97,
   "id": "7b87309a",
   "metadata": {},
   "outputs": [
    {
     "data": {
      "text/plain": [
       "<AxesSubplot:xlabel='SepalLengthCm'>"
      ]
     },
     "execution_count": 97,
     "metadata": {},
     "output_type": "execute_result"
    }
   ],
   "source": [
    "sns.boxplot(df[\"SepalLengthCm\"])"
   ]
  },
  {
   "cell_type": "markdown",
   "id": "dbb4769d",
   "metadata": {},
   "source": [
    "### 2. SepalWidthCm"
   ]
  },
  {
   "cell_type": "code",
   "execution_count": 98,
   "id": "eada1ae0",
   "metadata": {},
   "outputs": [
    {
     "data": {
      "text/plain": [
       "<AxesSubplot:xlabel='SepalWidthCm'>"
      ]
     },
     "execution_count": 98,
     "metadata": {},
     "output_type": "execute_result"
    }
   ],
   "source": [
    "sns.boxplot(df[\"SepalWidthCm\"])"
   ]
  },
  {
   "cell_type": "code",
   "execution_count": 99,
   "id": "e895cabd",
   "metadata": {},
   "outputs": [
    {
     "name": "stdout",
     "output_type": "stream",
     "text": [
      "Q1 : 2.8\n",
      "Q2 : 3.0\n",
      "Q3 : 3.3\n",
      "Median : 3.0\n",
      "IQR : 0.5\n",
      "Upper_Tail : 4.05\n",
      "Lower_Tail : 2.55\n"
     ]
    }
   ],
   "source": [
    "q1 = df[\"SepalWidthCm\"].quantile(0.25)\n",
    "q2 = df[\"SepalWidthCm\"].quantile(0.50)\n",
    "q3 = df[\"SepalWidthCm\"].quantile(0.75)\n",
    "\n",
    "median = df[\"SepalWidthCm\"].median()\n",
    "\n",
    "iqr = q3 - q1\n",
    "\n",
    "upper_tail = q3 + 1.5 * iqr\n",
    "lower_tail = q3 - 1.5 * iqr\n",
    "\n",
    "print(\"Q1 :\", q1)\n",
    "print(\"Q2 :\", q2)\n",
    "print(\"Q3 :\", q3)\n",
    "print(\"Median :\", median)\n",
    "print(\"IQR :\", iqr)\n",
    "print(\"Upper_Tail :\", upper_tail)\n",
    "print(\"Lower_Tail :\", lower_tail)"
   ]
  },
  {
   "cell_type": "code",
   "execution_count": 100,
   "id": "e23a7dff",
   "metadata": {},
   "outputs": [
    {
     "data": {
      "text/html": [
       "<div>\n",
       "<style scoped>\n",
       "    .dataframe tbody tr th:only-of-type {\n",
       "        vertical-align: middle;\n",
       "    }\n",
       "\n",
       "    .dataframe tbody tr th {\n",
       "        vertical-align: top;\n",
       "    }\n",
       "\n",
       "    .dataframe thead th {\n",
       "        text-align: right;\n",
       "    }\n",
       "</style>\n",
       "<table border=\"1\" class=\"dataframe\">\n",
       "  <thead>\n",
       "    <tr style=\"text-align: right;\">\n",
       "      <th></th>\n",
       "      <th>SepalWidthCm</th>\n",
       "    </tr>\n",
       "  </thead>\n",
       "  <tbody>\n",
       "    <tr>\n",
       "      <th>15</th>\n",
       "      <td>4.4</td>\n",
       "    </tr>\n",
       "    <tr>\n",
       "      <th>32</th>\n",
       "      <td>4.1</td>\n",
       "    </tr>\n",
       "    <tr>\n",
       "      <th>33</th>\n",
       "      <td>4.2</td>\n",
       "    </tr>\n",
       "    <tr>\n",
       "      <th>41</th>\n",
       "      <td>2.3</td>\n",
       "    </tr>\n",
       "    <tr>\n",
       "      <th>53</th>\n",
       "      <td>2.3</td>\n",
       "    </tr>\n",
       "    <tr>\n",
       "      <th>57</th>\n",
       "      <td>2.4</td>\n",
       "    </tr>\n",
       "    <tr>\n",
       "      <th>60</th>\n",
       "      <td>2.0</td>\n",
       "    </tr>\n",
       "    <tr>\n",
       "      <th>62</th>\n",
       "      <td>2.2</td>\n",
       "    </tr>\n",
       "    <tr>\n",
       "      <th>68</th>\n",
       "      <td>2.2</td>\n",
       "    </tr>\n",
       "    <tr>\n",
       "      <th>69</th>\n",
       "      <td>2.5</td>\n",
       "    </tr>\n",
       "    <tr>\n",
       "      <th>72</th>\n",
       "      <td>2.5</td>\n",
       "    </tr>\n",
       "    <tr>\n",
       "      <th>80</th>\n",
       "      <td>2.4</td>\n",
       "    </tr>\n",
       "    <tr>\n",
       "      <th>81</th>\n",
       "      <td>2.4</td>\n",
       "    </tr>\n",
       "    <tr>\n",
       "      <th>87</th>\n",
       "      <td>2.3</td>\n",
       "    </tr>\n",
       "    <tr>\n",
       "      <th>89</th>\n",
       "      <td>2.5</td>\n",
       "    </tr>\n",
       "    <tr>\n",
       "      <th>93</th>\n",
       "      <td>2.3</td>\n",
       "    </tr>\n",
       "    <tr>\n",
       "      <th>98</th>\n",
       "      <td>2.5</td>\n",
       "    </tr>\n",
       "    <tr>\n",
       "      <th>106</th>\n",
       "      <td>2.5</td>\n",
       "    </tr>\n",
       "    <tr>\n",
       "      <th>108</th>\n",
       "      <td>2.5</td>\n",
       "    </tr>\n",
       "    <tr>\n",
       "      <th>113</th>\n",
       "      <td>2.5</td>\n",
       "    </tr>\n",
       "    <tr>\n",
       "      <th>119</th>\n",
       "      <td>2.2</td>\n",
       "    </tr>\n",
       "    <tr>\n",
       "      <th>146</th>\n",
       "      <td>2.5</td>\n",
       "    </tr>\n",
       "  </tbody>\n",
       "</table>\n",
       "</div>"
      ],
      "text/plain": [
       "     SepalWidthCm\n",
       "15            4.4\n",
       "32            4.1\n",
       "33            4.2\n",
       "41            2.3\n",
       "53            2.3\n",
       "57            2.4\n",
       "60            2.0\n",
       "62            2.2\n",
       "68            2.2\n",
       "69            2.5\n",
       "72            2.5\n",
       "80            2.4\n",
       "81            2.4\n",
       "87            2.3\n",
       "89            2.5\n",
       "93            2.3\n",
       "98            2.5\n",
       "106           2.5\n",
       "108           2.5\n",
       "113           2.5\n",
       "119           2.2\n",
       "146           2.5"
      ]
     },
     "execution_count": 100,
     "metadata": {},
     "output_type": "execute_result"
    }
   ],
   "source": [
    "df[[\"SepalWidthCm\"]].loc[(df[\"SepalWidthCm\"] > upper_tail) | (df[\"SepalWidthCm\"] < lower_tail)]"
   ]
  },
  {
   "cell_type": "code",
   "execution_count": 101,
   "id": "60b6847b",
   "metadata": {},
   "outputs": [
    {
     "data": {
      "text/plain": [
       "3.05"
      ]
     },
     "execution_count": 101,
     "metadata": {},
     "output_type": "execute_result"
    }
   ],
   "source": [
    "median_sw = df[\"SepalWidthCm\"].loc[(df[\"SepalWidthCm\"] <= upper_tail) & (df[\"SepalWidthCm\"] >= lower_tail)].median()\n",
    "median_sw"
   ]
  },
  {
   "cell_type": "code",
   "execution_count": 102,
   "id": "415b840f",
   "metadata": {},
   "outputs": [],
   "source": [
    "df.loc[(df[\"SepalWidthCm\"] > upper_tail) & df[\"SepalWidthCm\"] < lower_tail, \"SepalWidthCm\"]= median_sw"
   ]
  },
  {
   "cell_type": "code",
   "execution_count": 103,
   "id": "a6648ca5",
   "metadata": {},
   "outputs": [
    {
     "data": {
      "text/html": [
       "<div>\n",
       "<style scoped>\n",
       "    .dataframe tbody tr th:only-of-type {\n",
       "        vertical-align: middle;\n",
       "    }\n",
       "\n",
       "    .dataframe tbody tr th {\n",
       "        vertical-align: top;\n",
       "    }\n",
       "\n",
       "    .dataframe thead th {\n",
       "        text-align: right;\n",
       "    }\n",
       "</style>\n",
       "<table border=\"1\" class=\"dataframe\">\n",
       "  <thead>\n",
       "    <tr style=\"text-align: right;\">\n",
       "      <th></th>\n",
       "      <th>SepalWidthCm</th>\n",
       "    </tr>\n",
       "  </thead>\n",
       "  <tbody>\n",
       "  </tbody>\n",
       "</table>\n",
       "</div>"
      ],
      "text/plain": [
       "Empty DataFrame\n",
       "Columns: [SepalWidthCm]\n",
       "Index: []"
      ]
     },
     "execution_count": 103,
     "metadata": {},
     "output_type": "execute_result"
    }
   ],
   "source": [
    "df[[\"SepalWidthCm\"]].loc[(df[\"SepalWidthCm\"] > upper_tail) | (df[\"SepalWidthCm\"] < lower_tail)]"
   ]
  },
  {
   "cell_type": "markdown",
   "id": "5329f409",
   "metadata": {},
   "source": [
    "### 3. PetalLengthCm"
   ]
  },
  {
   "cell_type": "code",
   "execution_count": 104,
   "id": "1c8a7f7f",
   "metadata": {},
   "outputs": [
    {
     "data": {
      "text/plain": [
       "<AxesSubplot:xlabel='PetalLengthCm'>"
      ]
     },
     "execution_count": 104,
     "metadata": {},
     "output_type": "execute_result"
    }
   ],
   "source": [
    "sns.boxplot(df[\"PetalLengthCm\"])"
   ]
  },
  {
   "cell_type": "markdown",
   "id": "90126c3a",
   "metadata": {},
   "source": [
    "### 4. PetalWidthCm"
   ]
  },
  {
   "cell_type": "code",
   "execution_count": 105,
   "id": "74cd0948",
   "metadata": {},
   "outputs": [
    {
     "data": {
      "text/plain": [
       "<AxesSubplot:xlabel='PetalWidthCm'>"
      ]
     },
     "execution_count": 105,
     "metadata": {},
     "output_type": "execute_result"
    }
   ],
   "source": [
    "sns.boxplot(df[\"PetalWidthCm\"])"
   ]
  },
  {
   "cell_type": "markdown",
   "id": "416c4cb1",
   "metadata": {},
   "source": [
    "### 5. Species"
   ]
  },
  {
   "cell_type": "code",
   "execution_count": 106,
   "id": "ff78f519",
   "metadata": {},
   "outputs": [
    {
     "data": {
      "text/plain": [
       "Iris-setosa        50\n",
       "Iris-versicolor    50\n",
       "Iris-virginica     50\n",
       "Name: Species, dtype: int64"
      ]
     },
     "execution_count": 106,
     "metadata": {},
     "output_type": "execute_result"
    }
   ],
   "source": [
    "df[\"Species\"].value_counts()"
   ]
  },
  {
   "cell_type": "code",
   "execution_count": 107,
   "id": "e7350555",
   "metadata": {},
   "outputs": [
    {
     "data": {
      "text/html": [
       "<div>\n",
       "<style scoped>\n",
       "    .dataframe tbody tr th:only-of-type {\n",
       "        vertical-align: middle;\n",
       "    }\n",
       "\n",
       "    .dataframe tbody tr th {\n",
       "        vertical-align: top;\n",
       "    }\n",
       "\n",
       "    .dataframe thead th {\n",
       "        text-align: right;\n",
       "    }\n",
       "</style>\n",
       "<table border=\"1\" class=\"dataframe\">\n",
       "  <thead>\n",
       "    <tr style=\"text-align: right;\">\n",
       "      <th></th>\n",
       "      <th>SepalLengthCm</th>\n",
       "      <th>SepalWidthCm</th>\n",
       "      <th>PetalLengthCm</th>\n",
       "      <th>PetalWidthCm</th>\n",
       "      <th>Species</th>\n",
       "    </tr>\n",
       "  </thead>\n",
       "  <tbody>\n",
       "    <tr>\n",
       "      <th>0</th>\n",
       "      <td>5.1</td>\n",
       "      <td>3.05</td>\n",
       "      <td>1.4</td>\n",
       "      <td>0.2</td>\n",
       "      <td>Iris-setosa</td>\n",
       "    </tr>\n",
       "    <tr>\n",
       "      <th>1</th>\n",
       "      <td>4.9</td>\n",
       "      <td>3.05</td>\n",
       "      <td>1.4</td>\n",
       "      <td>0.2</td>\n",
       "      <td>Iris-setosa</td>\n",
       "    </tr>\n",
       "    <tr>\n",
       "      <th>2</th>\n",
       "      <td>4.7</td>\n",
       "      <td>3.05</td>\n",
       "      <td>1.3</td>\n",
       "      <td>0.2</td>\n",
       "      <td>Iris-setosa</td>\n",
       "    </tr>\n",
       "    <tr>\n",
       "      <th>3</th>\n",
       "      <td>4.6</td>\n",
       "      <td>3.05</td>\n",
       "      <td>1.5</td>\n",
       "      <td>0.2</td>\n",
       "      <td>Iris-setosa</td>\n",
       "    </tr>\n",
       "    <tr>\n",
       "      <th>4</th>\n",
       "      <td>5.0</td>\n",
       "      <td>3.05</td>\n",
       "      <td>1.4</td>\n",
       "      <td>0.2</td>\n",
       "      <td>Iris-setosa</td>\n",
       "    </tr>\n",
       "    <tr>\n",
       "      <th>...</th>\n",
       "      <td>...</td>\n",
       "      <td>...</td>\n",
       "      <td>...</td>\n",
       "      <td>...</td>\n",
       "      <td>...</td>\n",
       "    </tr>\n",
       "    <tr>\n",
       "      <th>145</th>\n",
       "      <td>6.7</td>\n",
       "      <td>3.05</td>\n",
       "      <td>5.2</td>\n",
       "      <td>2.3</td>\n",
       "      <td>Iris-virginica</td>\n",
       "    </tr>\n",
       "    <tr>\n",
       "      <th>146</th>\n",
       "      <td>6.3</td>\n",
       "      <td>3.05</td>\n",
       "      <td>5.0</td>\n",
       "      <td>1.9</td>\n",
       "      <td>Iris-virginica</td>\n",
       "    </tr>\n",
       "    <tr>\n",
       "      <th>147</th>\n",
       "      <td>6.5</td>\n",
       "      <td>3.05</td>\n",
       "      <td>5.2</td>\n",
       "      <td>2.0</td>\n",
       "      <td>Iris-virginica</td>\n",
       "    </tr>\n",
       "    <tr>\n",
       "      <th>148</th>\n",
       "      <td>6.2</td>\n",
       "      <td>3.05</td>\n",
       "      <td>5.4</td>\n",
       "      <td>2.3</td>\n",
       "      <td>Iris-virginica</td>\n",
       "    </tr>\n",
       "    <tr>\n",
       "      <th>149</th>\n",
       "      <td>5.9</td>\n",
       "      <td>3.05</td>\n",
       "      <td>5.1</td>\n",
       "      <td>1.8</td>\n",
       "      <td>Iris-virginica</td>\n",
       "    </tr>\n",
       "  </tbody>\n",
       "</table>\n",
       "<p>150 rows × 5 columns</p>\n",
       "</div>"
      ],
      "text/plain": [
       "     SepalLengthCm  SepalWidthCm  PetalLengthCm  PetalWidthCm         Species\n",
       "0              5.1          3.05            1.4           0.2     Iris-setosa\n",
       "1              4.9          3.05            1.4           0.2     Iris-setosa\n",
       "2              4.7          3.05            1.3           0.2     Iris-setosa\n",
       "3              4.6          3.05            1.5           0.2     Iris-setosa\n",
       "4              5.0          3.05            1.4           0.2     Iris-setosa\n",
       "..             ...           ...            ...           ...             ...\n",
       "145            6.7          3.05            5.2           2.3  Iris-virginica\n",
       "146            6.3          3.05            5.0           1.9  Iris-virginica\n",
       "147            6.5          3.05            5.2           2.0  Iris-virginica\n",
       "148            6.2          3.05            5.4           2.3  Iris-virginica\n",
       "149            5.9          3.05            5.1           1.8  Iris-virginica\n",
       "\n",
       "[150 rows x 5 columns]"
      ]
     },
     "execution_count": 107,
     "metadata": {},
     "output_type": "execute_result"
    }
   ],
   "source": [
    "df = df.drop(\"Id\", axis = 1)\n",
    "df"
   ]
  },
  {
   "cell_type": "markdown",
   "id": "3ebcf0b5",
   "metadata": {},
   "source": [
    "## Trian_Test_Split"
   ]
  },
  {
   "cell_type": "code",
   "execution_count": 108,
   "id": "3db1737c",
   "metadata": {},
   "outputs": [],
   "source": [
    "x = df.drop(\"Species\", axis = 1)\n",
    "y = df[\"Species\"]\n",
    "\n",
    "x_train, x_test, y_train, y_test = train_test_split(x,y, test_size = 0.2, random_state = 11, stratify = y)\n",
    "\n",
    "model_details.append(\"Logistic Regular Model\")"
   ]
  },
  {
   "cell_type": "code",
   "execution_count": 109,
   "id": "23fcf9f2",
   "metadata": {},
   "outputs": [
    {
     "data": {
      "text/html": [
       "<div>\n",
       "<style scoped>\n",
       "    .dataframe tbody tr th:only-of-type {\n",
       "        vertical-align: middle;\n",
       "    }\n",
       "\n",
       "    .dataframe tbody tr th {\n",
       "        vertical-align: top;\n",
       "    }\n",
       "\n",
       "    .dataframe thead th {\n",
       "        text-align: right;\n",
       "    }\n",
       "</style>\n",
       "<table border=\"1\" class=\"dataframe\">\n",
       "  <thead>\n",
       "    <tr style=\"text-align: right;\">\n",
       "      <th></th>\n",
       "      <th>SepalLengthCm</th>\n",
       "      <th>SepalWidthCm</th>\n",
       "      <th>PetalLengthCm</th>\n",
       "      <th>PetalWidthCm</th>\n",
       "    </tr>\n",
       "  </thead>\n",
       "  <tbody>\n",
       "    <tr>\n",
       "      <th>8</th>\n",
       "      <td>4.4</td>\n",
       "      <td>3.05</td>\n",
       "      <td>1.4</td>\n",
       "      <td>0.2</td>\n",
       "    </tr>\n",
       "    <tr>\n",
       "      <th>23</th>\n",
       "      <td>5.1</td>\n",
       "      <td>3.05</td>\n",
       "      <td>1.7</td>\n",
       "      <td>0.5</td>\n",
       "    </tr>\n",
       "    <tr>\n",
       "      <th>101</th>\n",
       "      <td>5.8</td>\n",
       "      <td>3.05</td>\n",
       "      <td>5.1</td>\n",
       "      <td>1.9</td>\n",
       "    </tr>\n",
       "    <tr>\n",
       "      <th>49</th>\n",
       "      <td>5.0</td>\n",
       "      <td>3.05</td>\n",
       "      <td>1.4</td>\n",
       "      <td>0.2</td>\n",
       "    </tr>\n",
       "    <tr>\n",
       "      <th>111</th>\n",
       "      <td>6.4</td>\n",
       "      <td>3.05</td>\n",
       "      <td>5.3</td>\n",
       "      <td>1.9</td>\n",
       "    </tr>\n",
       "    <tr>\n",
       "      <th>...</th>\n",
       "      <td>...</td>\n",
       "      <td>...</td>\n",
       "      <td>...</td>\n",
       "      <td>...</td>\n",
       "    </tr>\n",
       "    <tr>\n",
       "      <th>94</th>\n",
       "      <td>5.6</td>\n",
       "      <td>3.05</td>\n",
       "      <td>4.2</td>\n",
       "      <td>1.3</td>\n",
       "    </tr>\n",
       "    <tr>\n",
       "      <th>62</th>\n",
       "      <td>6.0</td>\n",
       "      <td>3.05</td>\n",
       "      <td>4.0</td>\n",
       "      <td>1.0</td>\n",
       "    </tr>\n",
       "    <tr>\n",
       "      <th>115</th>\n",
       "      <td>6.4</td>\n",
       "      <td>3.05</td>\n",
       "      <td>5.3</td>\n",
       "      <td>2.3</td>\n",
       "    </tr>\n",
       "    <tr>\n",
       "      <th>21</th>\n",
       "      <td>5.1</td>\n",
       "      <td>3.05</td>\n",
       "      <td>1.5</td>\n",
       "      <td>0.4</td>\n",
       "    </tr>\n",
       "    <tr>\n",
       "      <th>77</th>\n",
       "      <td>6.7</td>\n",
       "      <td>3.05</td>\n",
       "      <td>5.0</td>\n",
       "      <td>1.7</td>\n",
       "    </tr>\n",
       "  </tbody>\n",
       "</table>\n",
       "<p>120 rows × 4 columns</p>\n",
       "</div>"
      ],
      "text/plain": [
       "     SepalLengthCm  SepalWidthCm  PetalLengthCm  PetalWidthCm\n",
       "8              4.4          3.05            1.4           0.2\n",
       "23             5.1          3.05            1.7           0.5\n",
       "101            5.8          3.05            5.1           1.9\n",
       "49             5.0          3.05            1.4           0.2\n",
       "111            6.4          3.05            5.3           1.9\n",
       "..             ...           ...            ...           ...\n",
       "94             5.6          3.05            4.2           1.3\n",
       "62             6.0          3.05            4.0           1.0\n",
       "115            6.4          3.05            5.3           2.3\n",
       "21             5.1          3.05            1.5           0.4\n",
       "77             6.7          3.05            5.0           1.7\n",
       "\n",
       "[120 rows x 4 columns]"
      ]
     },
     "execution_count": 109,
     "metadata": {},
     "output_type": "execute_result"
    }
   ],
   "source": [
    "x_train"
   ]
  },
  {
   "cell_type": "code",
   "execution_count": 110,
   "id": "dca27ded",
   "metadata": {},
   "outputs": [
    {
     "data": {
      "text/plain": [
       "8          Iris-setosa\n",
       "23         Iris-setosa\n",
       "101     Iris-virginica\n",
       "49         Iris-setosa\n",
       "111     Iris-virginica\n",
       "            ...       \n",
       "94     Iris-versicolor\n",
       "62     Iris-versicolor\n",
       "115     Iris-virginica\n",
       "21         Iris-setosa\n",
       "77     Iris-versicolor\n",
       "Name: Species, Length: 120, dtype: object"
      ]
     },
     "execution_count": 110,
     "metadata": {},
     "output_type": "execute_result"
    }
   ],
   "source": [
    "y_train"
   ]
  },
  {
   "cell_type": "markdown",
   "id": "d024a828",
   "metadata": {},
   "source": [
    "## Model Building"
   ]
  },
  {
   "cell_type": "code",
   "execution_count": 111,
   "id": "ce9474d1",
   "metadata": {},
   "outputs": [
    {
     "data": {
      "text/plain": [
       "LogisticRegression(multi_class='ovr')"
      ]
     },
     "execution_count": 111,
     "metadata": {},
     "output_type": "execute_result"
    }
   ],
   "source": [
    "log_model = LogisticRegression(multi_class = 'ovr')\n",
    "log_model.fit(x_train, y_train)"
   ]
  },
  {
   "cell_type": "markdown",
   "id": "6a044af1",
   "metadata": {},
   "source": [
    "## Model Evaluation"
   ]
  },
  {
   "cell_type": "code",
   "execution_count": 112,
   "id": "490a2b58",
   "metadata": {},
   "outputs": [
    {
     "name": "stdout",
     "output_type": "stream",
     "text": [
      "Confusion Matrix :\n",
      " [[10  0  0]\n",
      " [ 1  9  0]\n",
      " [ 0  0 10]]\n",
      "------------------------------------------------------------------------------------------\n",
      "Multilabel confusion matrix :\n",
      " [[[19  1]\n",
      "  [ 0 10]]\n",
      "\n",
      " [[20  0]\n",
      "  [ 1  9]]\n",
      "\n",
      " [[20  0]\n",
      "  [ 0 10]]]\n",
      "------------------------------------------------------------------------------------------\n",
      "Accuracy : 0.9666666666666667\n",
      "------------------------------------------------------------------------------------------\n",
      "Classification Report :\n",
      "                  precision    recall  f1-score   support\n",
      "\n",
      "    Iris-setosa       0.91      1.00      0.95        10\n",
      "Iris-versicolor       1.00      0.90      0.95        10\n",
      " Iris-virginica       1.00      1.00      1.00        10\n",
      "\n",
      "       accuracy                           0.97        30\n",
      "      macro avg       0.97      0.97      0.97        30\n",
      "   weighted avg       0.97      0.97      0.97        30\n",
      "\n"
     ]
    }
   ],
   "source": [
    "y_pred = log_model.predict(x_test)                                  # testing data\n",
    "\n",
    "cnf_matrix = confusion_matrix(y_test, y_pred)\n",
    "print(\"Confusion Matrix :\\n\", cnf_matrix)\n",
    "print(\"-\"* 90)\n",
    "\n",
    "multi_cnf_matrix = multilabel_confusion_matrix(y_test, y_pred)\n",
    "print(\"Multilabel confusion matrix :\\n\", multi_cnf_matrix)\n",
    "print(\"-\"* 90)\n",
    "\n",
    "accuracy = accuracy_score(y_test, y_pred)\n",
    "print(\"Accuracy :\", accuracy)\n",
    "print(\"-\"* 90)\n",
    "\n",
    "clf_report = classification_report(y_test, y_pred)\n",
    "print(\"Classification Report :\\n\", clf_report)\n",
    "\n",
    "testing_accuracy_list.append(accuracy)"
   ]
  },
  {
   "cell_type": "code",
   "execution_count": 113,
   "id": "66bc4ddf",
   "metadata": {},
   "outputs": [
    {
     "name": "stdout",
     "output_type": "stream",
     "text": [
      "Confusion Matrix :\n",
      " [[40  0  0]\n",
      " [ 0 36  4]\n",
      " [ 0  2 38]]\n",
      "------------------------------------------------------------------------------------------\n",
      "Multilabel confusion matrix :\n",
      " [[[80  0]\n",
      "  [ 0 40]]\n",
      "\n",
      " [[78  2]\n",
      "  [ 4 36]]\n",
      "\n",
      " [[76  4]\n",
      "  [ 2 38]]]\n",
      "------------------------------------------------------------------------------------------\n",
      "Accuracy : 0.95\n",
      "------------------------------------------------------------------------------------------\n",
      "Classification Report :\n",
      "                  precision    recall  f1-score   support\n",
      "\n",
      "    Iris-setosa       1.00      1.00      1.00        40\n",
      "Iris-versicolor       0.95      0.90      0.92        40\n",
      " Iris-virginica       0.90      0.95      0.93        40\n",
      "\n",
      "       accuracy                           0.95       120\n",
      "      macro avg       0.95      0.95      0.95       120\n",
      "   weighted avg       0.95      0.95      0.95       120\n",
      "\n"
     ]
    }
   ],
   "source": [
    "y_pred_train = log_model.predict(x_train)                                  # training data\n",
    "\n",
    "cnf_matrix = confusion_matrix(y_train, y_pred_train)\n",
    "print(\"Confusion Matrix :\\n\", cnf_matrix)\n",
    "print(\"-\"* 90)\n",
    "\n",
    "multi_cnf_matrix = multilabel_confusion_matrix(y_train, y_pred_train)\n",
    "print(\"Multilabel confusion matrix :\\n\", multi_cnf_matrix)\n",
    "print(\"-\"* 90)\n",
    "\n",
    "accuracy = accuracy_score(y_train, y_pred_train)\n",
    "print(\"Accuracy :\", accuracy)\n",
    "print(\"-\"* 90)\n",
    "\n",
    "clf_report = classification_report(y_train, y_pred_train)\n",
    "print(\"Classification Report :\\n\", clf_report)\n",
    "\n",
    "training_accuracy_list.append(accuracy)"
   ]
  },
  {
   "cell_type": "markdown",
   "id": "b8099eb3",
   "metadata": {},
   "source": [
    "# KNN Algorithm"
   ]
  },
  {
   "cell_type": "markdown",
   "id": "250afdca",
   "metadata": {},
   "source": [
    "# 1. Normalization (0 to 1)"
   ]
  },
  {
   "cell_type": "code",
   "execution_count": 114,
   "id": "c4837a5b",
   "metadata": {},
   "outputs": [
    {
     "data": {
      "text/html": [
       "<div>\n",
       "<style scoped>\n",
       "    .dataframe tbody tr th:only-of-type {\n",
       "        vertical-align: middle;\n",
       "    }\n",
       "\n",
       "    .dataframe tbody tr th {\n",
       "        vertical-align: top;\n",
       "    }\n",
       "\n",
       "    .dataframe thead th {\n",
       "        text-align: right;\n",
       "    }\n",
       "</style>\n",
       "<table border=\"1\" class=\"dataframe\">\n",
       "  <thead>\n",
       "    <tr style=\"text-align: right;\">\n",
       "      <th></th>\n",
       "      <th>SepalLengthCm</th>\n",
       "      <th>SepalWidthCm</th>\n",
       "      <th>PetalLengthCm</th>\n",
       "      <th>PetalWidthCm</th>\n",
       "    </tr>\n",
       "  </thead>\n",
       "  <tbody>\n",
       "    <tr>\n",
       "      <th>0</th>\n",
       "      <td>5.1</td>\n",
       "      <td>3.05</td>\n",
       "      <td>1.4</td>\n",
       "      <td>0.2</td>\n",
       "    </tr>\n",
       "    <tr>\n",
       "      <th>1</th>\n",
       "      <td>4.9</td>\n",
       "      <td>3.05</td>\n",
       "      <td>1.4</td>\n",
       "      <td>0.2</td>\n",
       "    </tr>\n",
       "    <tr>\n",
       "      <th>2</th>\n",
       "      <td>4.7</td>\n",
       "      <td>3.05</td>\n",
       "      <td>1.3</td>\n",
       "      <td>0.2</td>\n",
       "    </tr>\n",
       "    <tr>\n",
       "      <th>3</th>\n",
       "      <td>4.6</td>\n",
       "      <td>3.05</td>\n",
       "      <td>1.5</td>\n",
       "      <td>0.2</td>\n",
       "    </tr>\n",
       "    <tr>\n",
       "      <th>4</th>\n",
       "      <td>5.0</td>\n",
       "      <td>3.05</td>\n",
       "      <td>1.4</td>\n",
       "      <td>0.2</td>\n",
       "    </tr>\n",
       "  </tbody>\n",
       "</table>\n",
       "</div>"
      ],
      "text/plain": [
       "   SepalLengthCm  SepalWidthCm  PetalLengthCm  PetalWidthCm\n",
       "0            5.1          3.05            1.4           0.2\n",
       "1            4.9          3.05            1.4           0.2\n",
       "2            4.7          3.05            1.3           0.2\n",
       "3            4.6          3.05            1.5           0.2\n",
       "4            5.0          3.05            1.4           0.2"
      ]
     },
     "execution_count": 114,
     "metadata": {},
     "output_type": "execute_result"
    }
   ],
   "source": [
    "x_df = df.drop('Species', axis = 1)\n",
    "\n",
    "x_df.head()"
   ]
  },
  {
   "cell_type": "code",
   "execution_count": 115,
   "id": "81e53994",
   "metadata": {},
   "outputs": [
    {
     "data": {
      "text/html": [
       "<div>\n",
       "<style scoped>\n",
       "    .dataframe tbody tr th:only-of-type {\n",
       "        vertical-align: middle;\n",
       "    }\n",
       "\n",
       "    .dataframe tbody tr th {\n",
       "        vertical-align: top;\n",
       "    }\n",
       "\n",
       "    .dataframe thead th {\n",
       "        text-align: right;\n",
       "    }\n",
       "</style>\n",
       "<table border=\"1\" class=\"dataframe\">\n",
       "  <thead>\n",
       "    <tr style=\"text-align: right;\">\n",
       "      <th></th>\n",
       "      <th>SepalLengthCm</th>\n",
       "      <th>SepalWidthCm</th>\n",
       "      <th>PetalLengthCm</th>\n",
       "      <th>PetalWidthCm</th>\n",
       "    </tr>\n",
       "  </thead>\n",
       "  <tbody>\n",
       "    <tr>\n",
       "      <th>0</th>\n",
       "      <td>0.222222</td>\n",
       "      <td>0.0</td>\n",
       "      <td>0.067797</td>\n",
       "      <td>0.041667</td>\n",
       "    </tr>\n",
       "    <tr>\n",
       "      <th>1</th>\n",
       "      <td>0.166667</td>\n",
       "      <td>0.0</td>\n",
       "      <td>0.067797</td>\n",
       "      <td>0.041667</td>\n",
       "    </tr>\n",
       "    <tr>\n",
       "      <th>2</th>\n",
       "      <td>0.111111</td>\n",
       "      <td>0.0</td>\n",
       "      <td>0.050847</td>\n",
       "      <td>0.041667</td>\n",
       "    </tr>\n",
       "    <tr>\n",
       "      <th>3</th>\n",
       "      <td>0.083333</td>\n",
       "      <td>0.0</td>\n",
       "      <td>0.084746</td>\n",
       "      <td>0.041667</td>\n",
       "    </tr>\n",
       "    <tr>\n",
       "      <th>4</th>\n",
       "      <td>0.194444</td>\n",
       "      <td>0.0</td>\n",
       "      <td>0.067797</td>\n",
       "      <td>0.041667</td>\n",
       "    </tr>\n",
       "    <tr>\n",
       "      <th>...</th>\n",
       "      <td>...</td>\n",
       "      <td>...</td>\n",
       "      <td>...</td>\n",
       "      <td>...</td>\n",
       "    </tr>\n",
       "    <tr>\n",
       "      <th>145</th>\n",
       "      <td>0.666667</td>\n",
       "      <td>0.0</td>\n",
       "      <td>0.711864</td>\n",
       "      <td>0.916667</td>\n",
       "    </tr>\n",
       "    <tr>\n",
       "      <th>146</th>\n",
       "      <td>0.555556</td>\n",
       "      <td>0.0</td>\n",
       "      <td>0.677966</td>\n",
       "      <td>0.750000</td>\n",
       "    </tr>\n",
       "    <tr>\n",
       "      <th>147</th>\n",
       "      <td>0.611111</td>\n",
       "      <td>0.0</td>\n",
       "      <td>0.711864</td>\n",
       "      <td>0.791667</td>\n",
       "    </tr>\n",
       "    <tr>\n",
       "      <th>148</th>\n",
       "      <td>0.527778</td>\n",
       "      <td>0.0</td>\n",
       "      <td>0.745763</td>\n",
       "      <td>0.916667</td>\n",
       "    </tr>\n",
       "    <tr>\n",
       "      <th>149</th>\n",
       "      <td>0.444444</td>\n",
       "      <td>0.0</td>\n",
       "      <td>0.694915</td>\n",
       "      <td>0.708333</td>\n",
       "    </tr>\n",
       "  </tbody>\n",
       "</table>\n",
       "<p>150 rows × 4 columns</p>\n",
       "</div>"
      ],
      "text/plain": [
       "     SepalLengthCm  SepalWidthCm  PetalLengthCm  PetalWidthCm\n",
       "0         0.222222           0.0       0.067797      0.041667\n",
       "1         0.166667           0.0       0.067797      0.041667\n",
       "2         0.111111           0.0       0.050847      0.041667\n",
       "3         0.083333           0.0       0.084746      0.041667\n",
       "4         0.194444           0.0       0.067797      0.041667\n",
       "..             ...           ...            ...           ...\n",
       "145       0.666667           0.0       0.711864      0.916667\n",
       "146       0.555556           0.0       0.677966      0.750000\n",
       "147       0.611111           0.0       0.711864      0.791667\n",
       "148       0.527778           0.0       0.745763      0.916667\n",
       "149       0.444444           0.0       0.694915      0.708333\n",
       "\n",
       "[150 rows x 4 columns]"
      ]
     },
     "execution_count": 115,
     "metadata": {},
     "output_type": "execute_result"
    }
   ],
   "source": [
    "normal_scalar = MinMaxScaler()\n",
    "\n",
    "array = normal_scalar.fit_transform(x_df)\n",
    "\n",
    "x_normal_df = pd.DataFrame(array, columns=x_df.columns)\n",
    "x_normal_df"
   ]
  },
  {
   "cell_type": "code",
   "execution_count": 116,
   "id": "d46a23eb",
   "metadata": {},
   "outputs": [
    {
     "data": {
      "text/plain": [
       "0.4271356783919598"
      ]
     },
     "execution_count": 116,
     "metadata": {},
     "output_type": "execute_result"
    }
   ],
   "source": [
    "x_85 = (85 - 0)/(199 - 0)\n",
    "x_85"
   ]
  },
  {
   "cell_type": "markdown",
   "id": "a407af48",
   "metadata": {},
   "source": [
    "# 2. Standardization (-3 to +3)"
   ]
  },
  {
   "cell_type": "code",
   "execution_count": 117,
   "id": "77094533",
   "metadata": {},
   "outputs": [
    {
     "data": {
      "text/html": [
       "<div>\n",
       "<style scoped>\n",
       "    .dataframe tbody tr th:only-of-type {\n",
       "        vertical-align: middle;\n",
       "    }\n",
       "\n",
       "    .dataframe tbody tr th {\n",
       "        vertical-align: top;\n",
       "    }\n",
       "\n",
       "    .dataframe thead th {\n",
       "        text-align: right;\n",
       "    }\n",
       "</style>\n",
       "<table border=\"1\" class=\"dataframe\">\n",
       "  <thead>\n",
       "    <tr style=\"text-align: right;\">\n",
       "      <th></th>\n",
       "      <th>SepalLengthCm</th>\n",
       "      <th>SepalWidthCm</th>\n",
       "      <th>PetalLengthCm</th>\n",
       "      <th>PetalWidthCm</th>\n",
       "    </tr>\n",
       "  </thead>\n",
       "  <tbody>\n",
       "    <tr>\n",
       "      <th>0</th>\n",
       "      <td>-0.900681</td>\n",
       "      <td>-8.881784e-16</td>\n",
       "      <td>-1.341272</td>\n",
       "      <td>-1.312977</td>\n",
       "    </tr>\n",
       "    <tr>\n",
       "      <th>1</th>\n",
       "      <td>-1.143017</td>\n",
       "      <td>-8.881784e-16</td>\n",
       "      <td>-1.341272</td>\n",
       "      <td>-1.312977</td>\n",
       "    </tr>\n",
       "    <tr>\n",
       "      <th>2</th>\n",
       "      <td>-1.385353</td>\n",
       "      <td>-8.881784e-16</td>\n",
       "      <td>-1.398138</td>\n",
       "      <td>-1.312977</td>\n",
       "    </tr>\n",
       "    <tr>\n",
       "      <th>3</th>\n",
       "      <td>-1.506521</td>\n",
       "      <td>-8.881784e-16</td>\n",
       "      <td>-1.284407</td>\n",
       "      <td>-1.312977</td>\n",
       "    </tr>\n",
       "    <tr>\n",
       "      <th>4</th>\n",
       "      <td>-1.021849</td>\n",
       "      <td>-8.881784e-16</td>\n",
       "      <td>-1.341272</td>\n",
       "      <td>-1.312977</td>\n",
       "    </tr>\n",
       "    <tr>\n",
       "      <th>...</th>\n",
       "      <td>...</td>\n",
       "      <td>...</td>\n",
       "      <td>...</td>\n",
       "      <td>...</td>\n",
       "    </tr>\n",
       "    <tr>\n",
       "      <th>145</th>\n",
       "      <td>1.038005</td>\n",
       "      <td>-8.881784e-16</td>\n",
       "      <td>0.819624</td>\n",
       "      <td>1.447956</td>\n",
       "    </tr>\n",
       "    <tr>\n",
       "      <th>146</th>\n",
       "      <td>0.553333</td>\n",
       "      <td>-8.881784e-16</td>\n",
       "      <td>0.705893</td>\n",
       "      <td>0.922064</td>\n",
       "    </tr>\n",
       "    <tr>\n",
       "      <th>147</th>\n",
       "      <td>0.795669</td>\n",
       "      <td>-8.881784e-16</td>\n",
       "      <td>0.819624</td>\n",
       "      <td>1.053537</td>\n",
       "    </tr>\n",
       "    <tr>\n",
       "      <th>148</th>\n",
       "      <td>0.432165</td>\n",
       "      <td>-8.881784e-16</td>\n",
       "      <td>0.933356</td>\n",
       "      <td>1.447956</td>\n",
       "    </tr>\n",
       "    <tr>\n",
       "      <th>149</th>\n",
       "      <td>0.068662</td>\n",
       "      <td>-8.881784e-16</td>\n",
       "      <td>0.762759</td>\n",
       "      <td>0.790591</td>\n",
       "    </tr>\n",
       "  </tbody>\n",
       "</table>\n",
       "<p>150 rows × 4 columns</p>\n",
       "</div>"
      ],
      "text/plain": [
       "     SepalLengthCm  SepalWidthCm  PetalLengthCm  PetalWidthCm\n",
       "0        -0.900681 -8.881784e-16      -1.341272     -1.312977\n",
       "1        -1.143017 -8.881784e-16      -1.341272     -1.312977\n",
       "2        -1.385353 -8.881784e-16      -1.398138     -1.312977\n",
       "3        -1.506521 -8.881784e-16      -1.284407     -1.312977\n",
       "4        -1.021849 -8.881784e-16      -1.341272     -1.312977\n",
       "..             ...           ...            ...           ...\n",
       "145       1.038005 -8.881784e-16       0.819624      1.447956\n",
       "146       0.553333 -8.881784e-16       0.705893      0.922064\n",
       "147       0.795669 -8.881784e-16       0.819624      1.053537\n",
       "148       0.432165 -8.881784e-16       0.933356      1.447956\n",
       "149       0.068662 -8.881784e-16       0.762759      0.790591\n",
       "\n",
       "[150 rows x 4 columns]"
      ]
     },
     "execution_count": 117,
     "metadata": {},
     "output_type": "execute_result"
    }
   ],
   "source": [
    "std_scalar = StandardScaler()\n",
    "\n",
    "array = std_scalar.fit_transform(x_df)\n",
    "\n",
    "x_std_df = pd.DataFrame(array, columns=x_df.columns)\n",
    "x_std_df"
   ]
  },
  {
   "cell_type": "markdown",
   "id": "79a21d01",
   "metadata": {},
   "source": [
    "# Model Building"
   ]
  },
  {
   "cell_type": "markdown",
   "id": "2f8e3642",
   "metadata": {},
   "source": [
    "### Train Test Split"
   ]
  },
  {
   "cell_type": "code",
   "execution_count": 118,
   "id": "1ec74186",
   "metadata": {},
   "outputs": [],
   "source": [
    "x = df.drop('Species', axis = 1)                        # regular Model\n",
    "y = df['Species']\n",
    "\n",
    "x_train, x_test, y_train, y_test = train_test_split(x, y, test_size=0.2, random_state=1, stratify=y)\n",
    "\n",
    "knn_log_model = KNeighborsClassifier()\n",
    "knn_log_model.fit(x_train,y_train)\n",
    "\n",
    "model_details.append(\"KNN Regular Model\")"
   ]
  },
  {
   "cell_type": "code",
   "execution_count": 119,
   "id": "ef649178",
   "metadata": {},
   "outputs": [],
   "source": [
    "x = x_normal_df.copy()                                     # normalization\n",
    "y = df[\"Species\"]\n",
    "\n",
    "x_train,x_test,y_train,y_test = train_test_split(x,y,test_size = 0.2,random_state = 15)\n",
    "\n",
    "knn_normal_reg = KNeighborsClassifier()\n",
    "knn_normal_reg.fit(x_train,y_train)\n",
    "\n",
    "model_details.append(\"KNN Normalization\")"
   ]
  },
  {
   "cell_type": "code",
   "execution_count": 120,
   "id": "954cc5af",
   "metadata": {},
   "outputs": [],
   "source": [
    "x = x_std_df.copy()                                # standardization\n",
    "y = df['Species']\n",
    "\n",
    "x_train, x_test, y_train, y_test = train_test_split(x, y, test_size = 0.2, random_state = 15)\n",
    "\n",
    "knn_std_reg = KNeighborsClassifier()\n",
    "knn_std_reg.fit(x_train,y_train)\n",
    "\n",
    "model_details.append(\"KNN Standardization\")"
   ]
  },
  {
   "cell_type": "markdown",
   "id": "bfa3fb8c",
   "metadata": {},
   "source": [
    "### Model Evalution"
   ]
  },
  {
   "cell_type": "code",
   "execution_count": 121,
   "id": "d460f6ac",
   "metadata": {},
   "outputs": [
    {
     "name": "stdout",
     "output_type": "stream",
     "text": [
      "Confusion Matrix :\n",
      " [[ 8  0  0]\n",
      " [13  0  0]\n",
      " [ 9  0  0]]\n",
      "------------------------------------------------------------------------------------------\n",
      "Multilabel confusion matrix :\n",
      " [[[ 0 22]\n",
      "  [ 0  8]]\n",
      "\n",
      " [[17  0]\n",
      "  [13  0]]\n",
      "\n",
      " [[21  0]\n",
      "  [ 9  0]]]\n",
      "------------------------------------------------------------------------------------------\n",
      "Accuracy : 0.26666666666666666\n",
      "------------------------------------------------------------------------------------------\n",
      "Classification Report :\n",
      "                  precision    recall  f1-score   support\n",
      "\n",
      "    Iris-setosa       0.27      1.00      0.42         8\n",
      "Iris-versicolor       0.00      0.00      0.00        13\n",
      " Iris-virginica       0.00      0.00      0.00         9\n",
      "\n",
      "       accuracy                           0.27        30\n",
      "      macro avg       0.09      0.33      0.14        30\n",
      "   weighted avg       0.07      0.27      0.11        30\n",
      "\n"
     ]
    }
   ],
   "source": [
    "y_pred = knn_log_model.predict(x_test)                                  # regular testing data\n",
    "\n",
    "cnf_matrix = confusion_matrix(y_test, y_pred)\n",
    "print(\"Confusion Matrix :\\n\", cnf_matrix)\n",
    "print(\"-\"* 90)\n",
    "\n",
    "multi_cnf_matrix = multilabel_confusion_matrix(y_test, y_pred)\n",
    "print(\"Multilabel confusion matrix :\\n\", multi_cnf_matrix)\n",
    "print(\"-\"* 90)\n",
    "\n",
    "accuracy = accuracy_score(y_test, y_pred)\n",
    "print(\"Accuracy :\", accuracy)\n",
    "print(\"-\"* 90)\n",
    "\n",
    "clf_report = classification_report(y_test, y_pred)\n",
    "print(\"Classification Report :\\n\", clf_report)\n",
    "\n",
    "testing_accuracy_list.append(accuracy)"
   ]
  },
  {
   "cell_type": "code",
   "execution_count": 122,
   "id": "0ca3ed85",
   "metadata": {},
   "outputs": [
    {
     "name": "stdout",
     "output_type": "stream",
     "text": [
      "Confusion Matrix :\n",
      " [[42  0  0]\n",
      " [37  0  0]\n",
      " [41  0  0]]\n",
      "------------------------------------------------------------------------------------------\n",
      "Multilabel confusion matrix :\n",
      " [[[ 0 78]\n",
      "  [ 0 42]]\n",
      "\n",
      " [[83  0]\n",
      "  [37  0]]\n",
      "\n",
      " [[79  0]\n",
      "  [41  0]]]\n",
      "------------------------------------------------------------------------------------------\n",
      "Accuracy : 0.35\n",
      "------------------------------------------------------------------------------------------\n",
      "Classification Report :\n",
      "                  precision    recall  f1-score   support\n",
      "\n",
      "    Iris-setosa       0.35      1.00      0.52        42\n",
      "Iris-versicolor       0.00      0.00      0.00        37\n",
      " Iris-virginica       0.00      0.00      0.00        41\n",
      "\n",
      "       accuracy                           0.35       120\n",
      "      macro avg       0.12      0.33      0.17       120\n",
      "   weighted avg       0.12      0.35      0.18       120\n",
      "\n"
     ]
    }
   ],
   "source": [
    "y_pred_train = knn_log_model.predict(x_train)                                  # regular training data\n",
    "\n",
    "cnf_matrix = confusion_matrix(y_train, y_pred_train)\n",
    "print(\"Confusion Matrix :\\n\", cnf_matrix)\n",
    "print(\"-\"* 90)\n",
    "\n",
    "multi_cnf_matrix = multilabel_confusion_matrix(y_train, y_pred_train)\n",
    "print(\"Multilabel confusion matrix :\\n\", multi_cnf_matrix)\n",
    "print(\"-\"* 90)\n",
    "\n",
    "accuracy = accuracy_score(y_train, y_pred_train)\n",
    "print(\"Accuracy :\", accuracy)\n",
    "print(\"-\"* 90)\n",
    "\n",
    "clf_report = classification_report(y_train, y_pred_train)\n",
    "print(\"Classification Report :\\n\", clf_report)\n",
    "\n",
    "training_accuracy_list.append(accuracy)"
   ]
  },
  {
   "cell_type": "code",
   "execution_count": 123,
   "id": "657459c6",
   "metadata": {},
   "outputs": [
    {
     "name": "stdout",
     "output_type": "stream",
     "text": [
      "Confusion Matrix :\n",
      " [[ 8  0  0]\n",
      " [11  2  0]\n",
      " [ 0  0  9]]\n",
      "------------------------------------------------------------------------------------------\n",
      "Multilabel confusion matrix :\n",
      " [[[11 11]\n",
      "  [ 0  8]]\n",
      "\n",
      " [[17  0]\n",
      "  [11  2]]\n",
      "\n",
      " [[21  0]\n",
      "  [ 0  9]]]\n",
      "------------------------------------------------------------------------------------------\n",
      "Accuracy : 0.6333333333333333\n",
      "------------------------------------------------------------------------------------------\n",
      "Classification Report :\n",
      "                  precision    recall  f1-score   support\n",
      "\n",
      "    Iris-setosa       0.42      1.00      0.59         8\n",
      "Iris-versicolor       1.00      0.15      0.27        13\n",
      " Iris-virginica       1.00      1.00      1.00         9\n",
      "\n",
      "       accuracy                           0.63        30\n",
      "      macro avg       0.81      0.72      0.62        30\n",
      "   weighted avg       0.85      0.63      0.57        30\n",
      "\n"
     ]
    }
   ],
   "source": [
    "y_pred = knn_normal_reg.predict(x_test)                                  # normalized testing data\n",
    "\n",
    "cnf_matrix = confusion_matrix(y_test, y_pred)\n",
    "print(\"Confusion Matrix :\\n\", cnf_matrix)\n",
    "print(\"-\"* 90)\n",
    "\n",
    "multi_cnf_matrix = multilabel_confusion_matrix(y_test, y_pred)\n",
    "print(\"Multilabel confusion matrix :\\n\", multi_cnf_matrix)\n",
    "print(\"-\"* 90)\n",
    "\n",
    "accuracy = accuracy_score(y_test, y_pred)\n",
    "print(\"Accuracy :\", accuracy)\n",
    "print(\"-\"* 90)\n",
    "\n",
    "clf_report = classification_report(y_test, y_pred)\n",
    "print(\"Classification Report :\\n\", clf_report)\n",
    "\n",
    "testing_accuracy_list.append(accuracy)"
   ]
  },
  {
   "cell_type": "code",
   "execution_count": 124,
   "id": "e58a95f7",
   "metadata": {},
   "outputs": [
    {
     "name": "stdout",
     "output_type": "stream",
     "text": [
      "Confusion Matrix :\n",
      " [[42  0  0]\n",
      " [18 16  3]\n",
      " [ 1  2 38]]\n",
      "------------------------------------------------------------------------------------------\n",
      "Multilabel confusion matrix :\n",
      " [[[59 19]\n",
      "  [ 0 42]]\n",
      "\n",
      " [[81  2]\n",
      "  [21 16]]\n",
      "\n",
      " [[76  3]\n",
      "  [ 3 38]]]\n",
      "------------------------------------------------------------------------------------------\n",
      "Accuracy : 0.8\n",
      "------------------------------------------------------------------------------------------\n",
      "Classification Report :\n",
      "                  precision    recall  f1-score   support\n",
      "\n",
      "    Iris-setosa       0.69      1.00      0.82        42\n",
      "Iris-versicolor       0.89      0.43      0.58        37\n",
      " Iris-virginica       0.93      0.93      0.93        41\n",
      "\n",
      "       accuracy                           0.80       120\n",
      "      macro avg       0.83      0.79      0.77       120\n",
      "   weighted avg       0.83      0.80      0.78       120\n",
      "\n"
     ]
    }
   ],
   "source": [
    "y_pred_train = knn_normal_reg.predict(x_train)                                  # normalized training data\n",
    "\n",
    "cnf_matrix = confusion_matrix(y_train, y_pred_train)\n",
    "print(\"Confusion Matrix :\\n\", cnf_matrix)\n",
    "print(\"-\"* 90)\n",
    "\n",
    "multi_cnf_matrix = multilabel_confusion_matrix(y_train, y_pred_train)\n",
    "print(\"Multilabel confusion matrix :\\n\", multi_cnf_matrix)\n",
    "print(\"-\"* 90)\n",
    "\n",
    "accuracy = accuracy_score(y_train, y_pred_train)\n",
    "print(\"Accuracy :\", accuracy)\n",
    "print(\"-\"* 90)\n",
    "\n",
    "clf_report = classification_report(y_train, y_pred_train)\n",
    "print(\"Classification Report :\\n\", clf_report)\n",
    "\n",
    "training_accuracy_list.append(accuracy)"
   ]
  },
  {
   "cell_type": "code",
   "execution_count": 125,
   "id": "c475a11d",
   "metadata": {},
   "outputs": [
    {
     "name": "stdout",
     "output_type": "stream",
     "text": [
      "Confusion Matrix :\n",
      " [[ 8  0  0]\n",
      " [ 0 13  0]\n",
      " [ 0  0  9]]\n",
      "------------------------------------------------------------------------------------------\n",
      "Multilabel confusion matrix :\n",
      " [[[22  0]\n",
      "  [ 0  8]]\n",
      "\n",
      " [[17  0]\n",
      "  [ 0 13]]\n",
      "\n",
      " [[21  0]\n",
      "  [ 0  9]]]\n",
      "------------------------------------------------------------------------------------------\n",
      "Accuracy : 1.0\n",
      "------------------------------------------------------------------------------------------\n",
      "Classification Report :\n",
      "                  precision    recall  f1-score   support\n",
      "\n",
      "    Iris-setosa       1.00      1.00      1.00         8\n",
      "Iris-versicolor       1.00      1.00      1.00        13\n",
      " Iris-virginica       1.00      1.00      1.00         9\n",
      "\n",
      "       accuracy                           1.00        30\n",
      "      macro avg       1.00      1.00      1.00        30\n",
      "   weighted avg       1.00      1.00      1.00        30\n",
      "\n"
     ]
    }
   ],
   "source": [
    "y_pred = knn_std_reg.predict(x_test)                                  # standardized testing data\n",
    "\n",
    "cnf_matrix = confusion_matrix(y_test, y_pred)\n",
    "print(\"Confusion Matrix :\\n\", cnf_matrix)\n",
    "print(\"-\"* 90)\n",
    "\n",
    "multi_cnf_matrix = multilabel_confusion_matrix(y_test, y_pred)\n",
    "print(\"Multilabel confusion matrix :\\n\", multi_cnf_matrix)\n",
    "print(\"-\"* 90)\n",
    "\n",
    "accuracy = accuracy_score(y_test, y_pred)\n",
    "print(\"Accuracy :\", accuracy)\n",
    "print(\"-\"* 90)\n",
    "\n",
    "clf_report = classification_report(y_test, y_pred)\n",
    "print(\"Classification Report :\\n\", clf_report)\n",
    "\n",
    "testing_accuracy_list.append(accuracy)"
   ]
  },
  {
   "cell_type": "code",
   "execution_count": 126,
   "id": "874ceb8a",
   "metadata": {},
   "outputs": [
    {
     "name": "stdout",
     "output_type": "stream",
     "text": [
      "Confusion Matrix :\n",
      " [[42  0  0]\n",
      " [ 0 35  2]\n",
      " [ 0  3 38]]\n",
      "------------------------------------------------------------------------------------------\n",
      "Multilabel confusion matrix :\n",
      " [[[78  0]\n",
      "  [ 0 42]]\n",
      "\n",
      " [[80  3]\n",
      "  [ 2 35]]\n",
      "\n",
      " [[77  2]\n",
      "  [ 3 38]]]\n",
      "------------------------------------------------------------------------------------------\n",
      "Accuracy : 0.9583333333333334\n",
      "------------------------------------------------------------------------------------------\n",
      "Classification Report :\n",
      "                  precision    recall  f1-score   support\n",
      "\n",
      "    Iris-setosa       1.00      1.00      1.00        42\n",
      "Iris-versicolor       0.92      0.95      0.93        37\n",
      " Iris-virginica       0.95      0.93      0.94        41\n",
      "\n",
      "       accuracy                           0.96       120\n",
      "      macro avg       0.96      0.96      0.96       120\n",
      "   weighted avg       0.96      0.96      0.96       120\n",
      "\n"
     ]
    }
   ],
   "source": [
    "y_pred_train = knn_std_reg.predict(x_train)                                  # standardized training data\n",
    "\n",
    "cnf_matrix = confusion_matrix(y_train, y_pred_train)\n",
    "print(\"Confusion Matrix :\\n\", cnf_matrix)\n",
    "print(\"-\"* 90)\n",
    "\n",
    "multi_cnf_matrix = multilabel_confusion_matrix(y_train, y_pred_train)\n",
    "print(\"Multilabel confusion matrix :\\n\", multi_cnf_matrix)\n",
    "print(\"-\"* 90)\n",
    "\n",
    "accuracy = accuracy_score(y_train, y_pred_train)\n",
    "print(\"Accuracy :\", accuracy)\n",
    "print(\"-\"* 90)\n",
    "\n",
    "clf_report = classification_report(y_train, y_pred_train)\n",
    "print(\"Classification Report :\\n\", clf_report)\n",
    "\n",
    "training_accuracy_list.append(accuracy)"
   ]
  },
  {
   "cell_type": "markdown",
   "id": "52694854",
   "metadata": {},
   "source": [
    "# Hyperparameter Tunning"
   ]
  },
  {
   "cell_type": "code",
   "execution_count": 127,
   "id": "5e9f2e7b",
   "metadata": {},
   "outputs": [],
   "source": [
    "knn_clf = KNeighborsClassifier()\n",
    "\n",
    "param_grid = {\"n_neighbors\" : np.arange(3,30),\n",
    "                  \"p\": [1,2]} # Param_grid\n",
    "\n",
    "gscv_knn_clf = GridSearchCV(knn_clf, param_grid)  # cv=5\n",
    "gscv_knn_clf.fit(x_train, y_train) \n",
    "gscv_knn_clf.best_estimator_\n",
    "\n",
    "model_details.append(\"KNN Hyperparameter Tuning\")"
   ]
  },
  {
   "cell_type": "code",
   "execution_count": 128,
   "id": "77d2f674",
   "metadata": {
    "scrolled": true
   },
   "outputs": [
    {
     "data": {
      "text/plain": [
       "{'n_neighbors': 13, 'p': 2}"
      ]
     },
     "execution_count": 128,
     "metadata": {},
     "output_type": "execute_result"
    }
   ],
   "source": [
    "(gscv_knn_clf.best_params_)"
   ]
  },
  {
   "cell_type": "code",
   "execution_count": 129,
   "id": "9ee7f01d",
   "metadata": {
    "scrolled": false
   },
   "outputs": [
    {
     "name": "stdout",
     "output_type": "stream",
     "text": [
      "Confusion Matrix :\n",
      " [[ 8  0  0]\n",
      " [ 0 13  0]\n",
      " [ 0  0  9]]\n",
      "------------------------------------------------------------------------------------------\n",
      "Multilabel confusion matrix :\n",
      " [[[22  0]\n",
      "  [ 0  8]]\n",
      "\n",
      " [[17  0]\n",
      "  [ 0 13]]\n",
      "\n",
      " [[21  0]\n",
      "  [ 0  9]]]\n",
      "------------------------------------------------------------------------------------------\n",
      "Accuracy : 1.0\n",
      "------------------------------------------------------------------------------------------\n",
      "Classification Report :\n",
      "                  precision    recall  f1-score   support\n",
      "\n",
      "    Iris-setosa       1.00      1.00      1.00         8\n",
      "Iris-versicolor       1.00      1.00      1.00        13\n",
      " Iris-virginica       1.00      1.00      1.00         9\n",
      "\n",
      "       accuracy                           1.00        30\n",
      "      macro avg       1.00      1.00      1.00        30\n",
      "   weighted avg       1.00      1.00      1.00        30\n",
      "\n"
     ]
    }
   ],
   "source": [
    "knn_log_model = gscv_knn_clf.best_estimator_ \n",
    "\n",
    "y_pred = knn_log_model.predict(x_test)                                  # testing data\n",
    "\n",
    "cnf_matrix = confusion_matrix(y_test, y_pred)\n",
    "print(\"Confusion Matrix :\\n\", cnf_matrix)\n",
    "print(\"-\"* 90)\n",
    "\n",
    "multi_cnf_matrix = multilabel_confusion_matrix(y_test, y_pred)\n",
    "print(\"Multilabel confusion matrix :\\n\", multi_cnf_matrix)\n",
    "print(\"-\"* 90)\n",
    "\n",
    "accuracy = accuracy_score(y_test, y_pred)\n",
    "print(\"Accuracy :\", accuracy)\n",
    "print(\"-\"* 90)\n",
    "\n",
    "clf_report = classification_report(y_test, y_pred)\n",
    "print(\"Classification Report :\\n\", clf_report)\n",
    "\n",
    "testing_accuracy_list.append(accuracy)"
   ]
  },
  {
   "cell_type": "code",
   "execution_count": 130,
   "id": "d450dd25",
   "metadata": {},
   "outputs": [
    {
     "name": "stdout",
     "output_type": "stream",
     "text": [
      "Confusion Matrix :\n",
      " [[42  0  0]\n",
      " [ 0 35  2]\n",
      " [ 0  4 37]]\n",
      "------------------------------------------------------------------------------------------\n",
      "Multilabel confusion matrix :\n",
      " [[[78  0]\n",
      "  [ 0 42]]\n",
      "\n",
      " [[79  4]\n",
      "  [ 2 35]]\n",
      "\n",
      " [[77  2]\n",
      "  [ 4 37]]]\n",
      "------------------------------------------------------------------------------------------\n",
      "Accuracy : 0.95\n",
      "------------------------------------------------------------------------------------------\n",
      "Classification Report :\n",
      "                  precision    recall  f1-score   support\n",
      "\n",
      "    Iris-setosa       1.00      1.00      1.00        42\n",
      "Iris-versicolor       0.90      0.95      0.92        37\n",
      " Iris-virginica       0.95      0.90      0.92        41\n",
      "\n",
      "       accuracy                           0.95       120\n",
      "      macro avg       0.95      0.95      0.95       120\n",
      "   weighted avg       0.95      0.95      0.95       120\n",
      "\n"
     ]
    }
   ],
   "source": [
    "y_pred_train = knn_log_model.predict(x_train)                                  # training data\n",
    "\n",
    "cnf_matrix = confusion_matrix(y_train, y_pred_train)\n",
    "print(\"Confusion Matrix :\\n\", cnf_matrix)\n",
    "print(\"-\"* 90)\n",
    "\n",
    "multi_cnf_matrix = multilabel_confusion_matrix(y_train, y_pred_train)\n",
    "print(\"Multilabel confusion matrix :\\n\", multi_cnf_matrix)\n",
    "print(\"-\"* 90)\n",
    "\n",
    "accuracy = accuracy_score(y_train, y_pred_train)\n",
    "print(\"Accuracy :\", accuracy)\n",
    "print(\"-\"* 90)\n",
    "\n",
    "clf_report = classification_report(y_train, y_pred_train)\n",
    "print(\"Classification Report :\\n\", clf_report)\n",
    "\n",
    "training_accuracy_list.append(accuracy)"
   ]
  },
  {
   "cell_type": "markdown",
   "id": "ab8f73db",
   "metadata": {},
   "source": [
    "# Decision Tree"
   ]
  },
  {
   "cell_type": "markdown",
   "id": "d5f2bd7e",
   "metadata": {},
   "source": [
    "### Train test Split"
   ]
  },
  {
   "cell_type": "code",
   "execution_count": 131,
   "id": "1fc618e9",
   "metadata": {},
   "outputs": [],
   "source": [
    "x = df.drop('Species', axis=1)\n",
    "y = df['Species']\n",
    "\n",
    "x_train, x_test, y_train, y_test = train_test_split(x,y, test_size=0.2, random_state=11, stratify=y)\n",
    "\n",
    "model_details.append(\"Decision Tree Regular Model\")"
   ]
  },
  {
   "cell_type": "code",
   "execution_count": null,
   "id": "28cb9d7e",
   "metadata": {},
   "outputs": [],
   "source": []
  },
  {
   "cell_type": "code",
   "execution_count": 132,
   "id": "09886a7a",
   "metadata": {},
   "outputs": [
    {
     "data": {
      "text/html": [
       "<div>\n",
       "<style scoped>\n",
       "    .dataframe tbody tr th:only-of-type {\n",
       "        vertical-align: middle;\n",
       "    }\n",
       "\n",
       "    .dataframe tbody tr th {\n",
       "        vertical-align: top;\n",
       "    }\n",
       "\n",
       "    .dataframe thead th {\n",
       "        text-align: right;\n",
       "    }\n",
       "</style>\n",
       "<table border=\"1\" class=\"dataframe\">\n",
       "  <thead>\n",
       "    <tr style=\"text-align: right;\">\n",
       "      <th></th>\n",
       "      <th>SepalLengthCm</th>\n",
       "      <th>SepalWidthCm</th>\n",
       "      <th>PetalLengthCm</th>\n",
       "      <th>PetalWidthCm</th>\n",
       "    </tr>\n",
       "  </thead>\n",
       "  <tbody>\n",
       "    <tr>\n",
       "      <th>8</th>\n",
       "      <td>4.4</td>\n",
       "      <td>3.05</td>\n",
       "      <td>1.4</td>\n",
       "      <td>0.2</td>\n",
       "    </tr>\n",
       "    <tr>\n",
       "      <th>23</th>\n",
       "      <td>5.1</td>\n",
       "      <td>3.05</td>\n",
       "      <td>1.7</td>\n",
       "      <td>0.5</td>\n",
       "    </tr>\n",
       "    <tr>\n",
       "      <th>101</th>\n",
       "      <td>5.8</td>\n",
       "      <td>3.05</td>\n",
       "      <td>5.1</td>\n",
       "      <td>1.9</td>\n",
       "    </tr>\n",
       "    <tr>\n",
       "      <th>49</th>\n",
       "      <td>5.0</td>\n",
       "      <td>3.05</td>\n",
       "      <td>1.4</td>\n",
       "      <td>0.2</td>\n",
       "    </tr>\n",
       "    <tr>\n",
       "      <th>111</th>\n",
       "      <td>6.4</td>\n",
       "      <td>3.05</td>\n",
       "      <td>5.3</td>\n",
       "      <td>1.9</td>\n",
       "    </tr>\n",
       "    <tr>\n",
       "      <th>...</th>\n",
       "      <td>...</td>\n",
       "      <td>...</td>\n",
       "      <td>...</td>\n",
       "      <td>...</td>\n",
       "    </tr>\n",
       "    <tr>\n",
       "      <th>94</th>\n",
       "      <td>5.6</td>\n",
       "      <td>3.05</td>\n",
       "      <td>4.2</td>\n",
       "      <td>1.3</td>\n",
       "    </tr>\n",
       "    <tr>\n",
       "      <th>62</th>\n",
       "      <td>6.0</td>\n",
       "      <td>3.05</td>\n",
       "      <td>4.0</td>\n",
       "      <td>1.0</td>\n",
       "    </tr>\n",
       "    <tr>\n",
       "      <th>115</th>\n",
       "      <td>6.4</td>\n",
       "      <td>3.05</td>\n",
       "      <td>5.3</td>\n",
       "      <td>2.3</td>\n",
       "    </tr>\n",
       "    <tr>\n",
       "      <th>21</th>\n",
       "      <td>5.1</td>\n",
       "      <td>3.05</td>\n",
       "      <td>1.5</td>\n",
       "      <td>0.4</td>\n",
       "    </tr>\n",
       "    <tr>\n",
       "      <th>77</th>\n",
       "      <td>6.7</td>\n",
       "      <td>3.05</td>\n",
       "      <td>5.0</td>\n",
       "      <td>1.7</td>\n",
       "    </tr>\n",
       "  </tbody>\n",
       "</table>\n",
       "<p>120 rows × 4 columns</p>\n",
       "</div>"
      ],
      "text/plain": [
       "     SepalLengthCm  SepalWidthCm  PetalLengthCm  PetalWidthCm\n",
       "8              4.4          3.05            1.4           0.2\n",
       "23             5.1          3.05            1.7           0.5\n",
       "101            5.8          3.05            5.1           1.9\n",
       "49             5.0          3.05            1.4           0.2\n",
       "111            6.4          3.05            5.3           1.9\n",
       "..             ...           ...            ...           ...\n",
       "94             5.6          3.05            4.2           1.3\n",
       "62             6.0          3.05            4.0           1.0\n",
       "115            6.4          3.05            5.3           2.3\n",
       "21             5.1          3.05            1.5           0.4\n",
       "77             6.7          3.05            5.0           1.7\n",
       "\n",
       "[120 rows x 4 columns]"
      ]
     },
     "execution_count": 132,
     "metadata": {},
     "output_type": "execute_result"
    }
   ],
   "source": [
    "x_train"
   ]
  },
  {
   "cell_type": "markdown",
   "id": "3dca5c5b",
   "metadata": {},
   "source": [
    "# Model Training"
   ]
  },
  {
   "cell_type": "code",
   "execution_count": 133,
   "id": "5c0d7737",
   "metadata": {},
   "outputs": [
    {
     "data": {
      "text/plain": [
       "DecisionTreeClassifier(random_state=11)"
      ]
     },
     "execution_count": 133,
     "metadata": {},
     "output_type": "execute_result"
    }
   ],
   "source": [
    "dt_clf = DecisionTreeClassifier(random_state=11)\n",
    "dt_clf.fit(x_train, y_train)\n",
    "\n",
    "# criterion='gini',\n",
    "# max_depth=None,\n",
    "# min_samples_split=2,\n",
    "# min_samples_leaf=1,\n",
    "# max_features=None,\n",
    "# random_state=None,\n",
    "# ccp_alpha=0.0,"
   ]
  },
  {
   "cell_type": "markdown",
   "id": "75153335",
   "metadata": {},
   "source": [
    "# Model Evaluation"
   ]
  },
  {
   "cell_type": "code",
   "execution_count": 134,
   "id": "8397c2ac",
   "metadata": {
    "scrolled": false
   },
   "outputs": [
    {
     "name": "stdout",
     "output_type": "stream",
     "text": [
      "Confusion Matrix :\n",
      " [[10  0  0]\n",
      " [ 0 10  0]\n",
      " [ 0  0 10]]\n",
      "------------------------------------------------------------------------------------------\n",
      "Multilabel confusion matrix :\n",
      " [[[20  0]\n",
      "  [ 0 10]]\n",
      "\n",
      " [[20  0]\n",
      "  [ 0 10]]\n",
      "\n",
      " [[20  0]\n",
      "  [ 0 10]]]\n",
      "------------------------------------------------------------------------------------------\n",
      "Accuracy : 1.0\n",
      "------------------------------------------------------------------------------------------\n",
      "Classification Report :\n",
      "                  precision    recall  f1-score   support\n",
      "\n",
      "    Iris-setosa       1.00      1.00      1.00        10\n",
      "Iris-versicolor       1.00      1.00      1.00        10\n",
      " Iris-virginica       1.00      1.00      1.00        10\n",
      "\n",
      "       accuracy                           1.00        30\n",
      "      macro avg       1.00      1.00      1.00        30\n",
      "   weighted avg       1.00      1.00      1.00        30\n",
      "\n"
     ]
    }
   ],
   "source": [
    "y_pred = dt_clf.predict(x_test)                                  # testing data\n",
    "\n",
    "cnf_matrix = confusion_matrix(y_test, y_pred)\n",
    "print(\"Confusion Matrix :\\n\", cnf_matrix)\n",
    "print(\"-\"* 90)\n",
    "\n",
    "multi_cnf_matrix = multilabel_confusion_matrix(y_test, y_pred)\n",
    "print(\"Multilabel confusion matrix :\\n\", multi_cnf_matrix)\n",
    "print(\"-\"* 90)\n",
    "\n",
    "accuracy = accuracy_score(y_test, y_pred)\n",
    "print(\"Accuracy :\", accuracy)\n",
    "print(\"-\"* 90)\n",
    "\n",
    "clf_report = classification_report(y_test, y_pred)\n",
    "print(\"Classification Report :\\n\", clf_report)\n",
    "\n",
    "testing_accuracy_list.append(accuracy)"
   ]
  },
  {
   "cell_type": "code",
   "execution_count": 135,
   "id": "8430fafa",
   "metadata": {},
   "outputs": [
    {
     "name": "stdout",
     "output_type": "stream",
     "text": [
      "Confusion Matrix :\n",
      " [[40  0  0]\n",
      " [ 0 40  0]\n",
      " [ 0  0 40]]\n",
      "------------------------------------------------------------------------------------------\n",
      "Multilabel confusion matrix :\n",
      " [[[80  0]\n",
      "  [ 0 40]]\n",
      "\n",
      " [[80  0]\n",
      "  [ 0 40]]\n",
      "\n",
      " [[80  0]\n",
      "  [ 0 40]]]\n",
      "------------------------------------------------------------------------------------------\n",
      "Accuracy : 1.0\n",
      "------------------------------------------------------------------------------------------\n",
      "Classification Report :\n",
      "                  precision    recall  f1-score   support\n",
      "\n",
      "    Iris-setosa       1.00      1.00      1.00        40\n",
      "Iris-versicolor       1.00      1.00      1.00        40\n",
      " Iris-virginica       1.00      1.00      1.00        40\n",
      "\n",
      "       accuracy                           1.00       120\n",
      "      macro avg       1.00      1.00      1.00       120\n",
      "   weighted avg       1.00      1.00      1.00       120\n",
      "\n"
     ]
    }
   ],
   "source": [
    "y_pred_train = dt_clf.predict(x_train)                                  # training data\n",
    "\n",
    "cnf_matrix = confusion_matrix(y_train, y_pred_train)\n",
    "print(\"Confusion Matrix :\\n\", cnf_matrix)\n",
    "print(\"-\"* 90)\n",
    "\n",
    "multi_cnf_matrix = multilabel_confusion_matrix(y_train, y_pred_train)\n",
    "print(\"Multilabel confusion matrix :\\n\", multi_cnf_matrix)\n",
    "print(\"-\"* 90)\n",
    "\n",
    "accuracy = accuracy_score(y_train, y_pred_train)\n",
    "print(\"Accuracy :\", accuracy)\n",
    "print(\"-\"* 90)\n",
    "\n",
    "clf_report = classification_report(y_train, y_pred_train)\n",
    "print(\"Classification Report :\\n\", clf_report)\n",
    "\n",
    "training_accuracy_list.append(accuracy)"
   ]
  },
  {
   "cell_type": "markdown",
   "id": "262964eb",
   "metadata": {},
   "source": [
    "# Hyperparameter Tunning"
   ]
  },
  {
   "cell_type": "code",
   "execution_count": 136,
   "id": "8c0fa167",
   "metadata": {},
   "outputs": [
    {
     "name": "stdout",
     "output_type": "stream",
     "text": [
      "Required Time : 0.3563807010650635 sec\n"
     ]
    }
   ],
   "source": [
    "import time\n",
    "t1 = time.time()\n",
    "\n",
    "dt_model = DecisionTreeClassifier(random_state=11)\n",
    "\n",
    "# criterion='gini',\n",
    "# max_depth=None,\n",
    "# min_samples_split=2,\n",
    "# min_samples_leaf=1,\n",
    "# max_features=None,  # Random Forest\n",
    "# random_state=None,\n",
    "# ccp_alpha=0.0,  --> Prunning\n",
    "\n",
    "hyperparameter = {\"criterion\":['gini', 'entropy'], \n",
    "                 \"max_depth\": np.arange(3,8),\n",
    "                 \"min_samples_split\": np.arange(2,20),\n",
    "                 \"min_samples_leaf\": np.arange(2,15)}  # 2 * 5 * 18 * 13 = 2340\n",
    "\n",
    "rscv_dt_clf = RandomizedSearchCV(dt_model, hyperparameter, cv=5)\n",
    "rscv_dt_clf.fit(x_train, y_train)\n",
    "\n",
    "t2 = time.time()\n",
    "print(\"Required Time :\", t2-t1, \"sec\")\n",
    "\n",
    "model_details.append(\"DT Hyperparameter Tuning\")"
   ]
  },
  {
   "cell_type": "code",
   "execution_count": 137,
   "id": "1021f53b",
   "metadata": {
    "scrolled": true
   },
   "outputs": [
    {
     "data": {
      "text/plain": [
       "DecisionTreeClassifier(max_depth=7, min_samples_leaf=3, min_samples_split=5,\n",
       "                       random_state=11)"
      ]
     },
     "execution_count": 137,
     "metadata": {},
     "output_type": "execute_result"
    }
   ],
   "source": [
    "rscv_dt_clf.best_estimator_"
   ]
  },
  {
   "cell_type": "code",
   "execution_count": 138,
   "id": "c1cd3a9a",
   "metadata": {
    "scrolled": false
   },
   "outputs": [
    {
     "name": "stdout",
     "output_type": "stream",
     "text": [
      "Confusion Matrix :\n",
      " [[10  0  0]\n",
      " [ 0 10  0]\n",
      " [ 0  0 10]]\n",
      "------------------------------------------------------------------------------------------\n",
      "Multilabel confusion matrix :\n",
      " [[[20  0]\n",
      "  [ 0 10]]\n",
      "\n",
      " [[20  0]\n",
      "  [ 0 10]]\n",
      "\n",
      " [[20  0]\n",
      "  [ 0 10]]]\n",
      "------------------------------------------------------------------------------------------\n",
      "Accuracy : 1.0\n",
      "------------------------------------------------------------------------------------------\n",
      "Classification Report :\n",
      "                  precision    recall  f1-score   support\n",
      "\n",
      "    Iris-setosa       1.00      1.00      1.00        10\n",
      "Iris-versicolor       1.00      1.00      1.00        10\n",
      " Iris-virginica       1.00      1.00      1.00        10\n",
      "\n",
      "       accuracy                           1.00        30\n",
      "      macro avg       1.00      1.00      1.00        30\n",
      "   weighted avg       1.00      1.00      1.00        30\n",
      "\n"
     ]
    }
   ],
   "source": [
    "dt_clf = rscv_dt_clf.best_estimator_\n",
    "dt_clf.fit(x_train, y_train)                                  # testing data\n",
    "\n",
    "y_pred = dt_clf.predict(x_test)\n",
    "\n",
    "cnf_matrix = confusion_matrix(y_test, y_pred)\n",
    "print(\"Confusion Matrix :\\n\", cnf_matrix)\n",
    "print(\"-\"* 90)\n",
    "\n",
    "multi_cnf_matrix = multilabel_confusion_matrix(y_test, y_pred)\n",
    "print(\"Multilabel confusion matrix :\\n\", multi_cnf_matrix)\n",
    "print(\"-\"* 90)\n",
    "\n",
    "accuracy = accuracy_score(y_test, y_pred)\n",
    "print(\"Accuracy :\", accuracy)\n",
    "print(\"-\"* 90)\n",
    "\n",
    "clf_report = classification_report(y_test, y_pred)\n",
    "print(\"Classification Report :\\n\", clf_report)\n",
    "\n",
    "testing_accuracy_list.append(accuracy)"
   ]
  },
  {
   "cell_type": "code",
   "execution_count": 139,
   "id": "a5b09a98",
   "metadata": {},
   "outputs": [
    {
     "name": "stdout",
     "output_type": "stream",
     "text": [
      "Confusion Matrix :\n",
      " [[40  0  0]\n",
      " [ 0 39  1]\n",
      " [ 0  2 38]]\n",
      "------------------------------------------------------------------------------------------\n",
      "Multilabel confusion matrix :\n",
      " [[[80  0]\n",
      "  [ 0 40]]\n",
      "\n",
      " [[78  2]\n",
      "  [ 1 39]]\n",
      "\n",
      " [[79  1]\n",
      "  [ 2 38]]]\n",
      "------------------------------------------------------------------------------------------\n",
      "Accuracy : 0.975\n",
      "------------------------------------------------------------------------------------------\n",
      "Classification Report :\n",
      "                  precision    recall  f1-score   support\n",
      "\n",
      "    Iris-setosa       1.00      1.00      1.00        40\n",
      "Iris-versicolor       0.95      0.97      0.96        40\n",
      " Iris-virginica       0.97      0.95      0.96        40\n",
      "\n",
      "       accuracy                           0.97       120\n",
      "      macro avg       0.98      0.97      0.97       120\n",
      "   weighted avg       0.98      0.97      0.97       120\n",
      "\n"
     ]
    }
   ],
   "source": [
    "y_pred_train = dt_clf.predict(x_train)                                  # training data\n",
    "\n",
    "cnf_matrix = confusion_matrix(y_train, y_pred_train)\n",
    "print(\"Confusion Matrix :\\n\", cnf_matrix)\n",
    "print(\"-\"* 90)\n",
    "\n",
    "multi_cnf_matrix = multilabel_confusion_matrix(y_train, y_pred_train)\n",
    "print(\"Multilabel confusion matrix :\\n\", multi_cnf_matrix)\n",
    "print(\"-\"* 90)\n",
    "\n",
    "accuracy = accuracy_score(y_train, y_pred_train)\n",
    "print(\"Accuracy :\", accuracy)\n",
    "print(\"-\"* 90)\n",
    "\n",
    "clf_report = classification_report(y_train, y_pred_train)\n",
    "print(\"Classification Report :\\n\", clf_report)\n",
    "\n",
    "training_accuracy_list.append(accuracy)"
   ]
  },
  {
   "cell_type": "markdown",
   "id": "a16028ac",
   "metadata": {},
   "source": [
    "# Random Forest"
   ]
  },
  {
   "cell_type": "code",
   "execution_count": 140,
   "id": "8301221f",
   "metadata": {},
   "outputs": [],
   "source": [
    "x_train, x_test, y_train, y_test = train_test_split(x, y, test_size = 0.25, random_state = 10, stratify = y)\n",
    "x_train\n",
    "\n",
    "model_details.append(\"Random Forest Regular Model\")"
   ]
  },
  {
   "cell_type": "markdown",
   "id": "afad1a19",
   "metadata": {},
   "source": [
    "# Model Training"
   ]
  },
  {
   "cell_type": "code",
   "execution_count": 141,
   "id": "2f9ce51c",
   "metadata": {},
   "outputs": [
    {
     "data": {
      "text/plain": [
       "RandomForestClassifier(random_state=10)"
      ]
     },
     "execution_count": 141,
     "metadata": {},
     "output_type": "execute_result"
    }
   ],
   "source": [
    "# Create an instance\n",
    "\n",
    "rf_clf = RandomForestClassifier(random_state = 10)\n",
    "rf_clf.fit(x_train, y_train)"
   ]
  },
  {
   "cell_type": "markdown",
   "id": "2fc62b4d",
   "metadata": {},
   "source": [
    "# Model Evaluation"
   ]
  },
  {
   "cell_type": "code",
   "execution_count": 142,
   "id": "30bb32b0",
   "metadata": {
    "scrolled": false
   },
   "outputs": [
    {
     "name": "stdout",
     "output_type": "stream",
     "text": [
      "Confusion Matrix :\n",
      " [[12  0  0]\n",
      " [ 0 13  0]\n",
      " [ 0  0 13]]\n",
      "------------------------------------------------------------------------------------------\n",
      "Multilabel confusion matrix :\n",
      " [[[26  0]\n",
      "  [ 0 12]]\n",
      "\n",
      " [[25  0]\n",
      "  [ 0 13]]\n",
      "\n",
      " [[25  0]\n",
      "  [ 0 13]]]\n",
      "------------------------------------------------------------------------------------------\n",
      "Accuracy : 1.0\n",
      "------------------------------------------------------------------------------------------\n",
      "Classification Report :\n",
      "                  precision    recall  f1-score   support\n",
      "\n",
      "    Iris-setosa       1.00      1.00      1.00        12\n",
      "Iris-versicolor       1.00      1.00      1.00        13\n",
      " Iris-virginica       1.00      1.00      1.00        13\n",
      "\n",
      "       accuracy                           1.00        38\n",
      "      macro avg       1.00      1.00      1.00        38\n",
      "   weighted avg       1.00      1.00      1.00        38\n",
      "\n"
     ]
    }
   ],
   "source": [
    "y_pred = rf_clf.predict(x_test)                                  # testing data\n",
    "\n",
    "cnf_matrix = confusion_matrix(y_test, y_pred)\n",
    "print(\"Confusion Matrix :\\n\", cnf_matrix)\n",
    "print(\"-\"* 90)\n",
    "\n",
    "multi_cnf_matrix = multilabel_confusion_matrix(y_test, y_pred)\n",
    "print(\"Multilabel confusion matrix :\\n\", multi_cnf_matrix)\n",
    "print(\"-\"* 90)\n",
    "\n",
    "accuracy = accuracy_score(y_test, y_pred)\n",
    "print(\"Accuracy :\", accuracy)\n",
    "print(\"-\"* 90)\n",
    "\n",
    "clf_report = classification_report(y_test, y_pred)\n",
    "print(\"Classification Report :\\n\", clf_report)\n",
    "\n",
    "testing_accuracy_list.append(accuracy)"
   ]
  },
  {
   "cell_type": "code",
   "execution_count": 143,
   "id": "c983460c",
   "metadata": {},
   "outputs": [
    {
     "name": "stdout",
     "output_type": "stream",
     "text": [
      "Confusion Matrix :\n",
      " [[38  0  0]\n",
      " [ 0 37  0]\n",
      " [ 0  0 37]]\n",
      "------------------------------------------------------------------------------------------\n",
      "Multilabel confusion matrix :\n",
      " [[[74  0]\n",
      "  [ 0 38]]\n",
      "\n",
      " [[75  0]\n",
      "  [ 0 37]]\n",
      "\n",
      " [[75  0]\n",
      "  [ 0 37]]]\n",
      "------------------------------------------------------------------------------------------\n",
      "Accuracy : 1.0\n",
      "------------------------------------------------------------------------------------------\n",
      "Classification Report :\n",
      "                  precision    recall  f1-score   support\n",
      "\n",
      "    Iris-setosa       1.00      1.00      1.00        38\n",
      "Iris-versicolor       1.00      1.00      1.00        37\n",
      " Iris-virginica       1.00      1.00      1.00        37\n",
      "\n",
      "       accuracy                           1.00       112\n",
      "      macro avg       1.00      1.00      1.00       112\n",
      "   weighted avg       1.00      1.00      1.00       112\n",
      "\n"
     ]
    }
   ],
   "source": [
    "y_pred_train = rf_clf.predict(x_train)                                  # training data\n",
    "\n",
    "cnf_matrix = confusion_matrix(y_train, y_pred_train)\n",
    "print(\"Confusion Matrix :\\n\", cnf_matrix)\n",
    "print(\"-\"* 90)\n",
    "\n",
    "multi_cnf_matrix = multilabel_confusion_matrix(y_train, y_pred_train)\n",
    "print(\"Multilabel confusion matrix :\\n\", multi_cnf_matrix)\n",
    "print(\"-\"* 90)\n",
    "\n",
    "accuracy = accuracy_score(y_train, y_pred_train)\n",
    "print(\"Accuracy :\", accuracy)\n",
    "print(\"-\"* 90)\n",
    "\n",
    "clf_report = classification_report(y_train, y_pred_train)\n",
    "print(\"Classification Report :\\n\", clf_report)\n",
    "\n",
    "training_accuracy_list.append(accuracy)"
   ]
  },
  {
   "cell_type": "markdown",
   "id": "181e7177",
   "metadata": {},
   "source": [
    "### Hyperparameter Tunning for Random Forest"
   ]
  },
  {
   "cell_type": "code",
   "execution_count": 144,
   "id": "57eb95de",
   "metadata": {},
   "outputs": [],
   "source": [
    "rf_model = RandomForestClassifier(random_state = 10)\n",
    "\n",
    "n_estimators=100, # Number of DT\n",
    "criterion='gini',\n",
    "max_depth=None,\n",
    "min_samples_split=2,\n",
    "min_samples_leaf=1,\n",
    "max_features='sqrt',\n",
    "bootstrap=True,  # Can we avoid bootstrapping...?\n",
    "oob_score=False,\n",
    "n_jobs=-1,\n",
    "random_state=None,\n",
    "ccp_alpha=0.0"
   ]
  },
  {
   "cell_type": "code",
   "execution_count": 145,
   "id": "d7cb9cd7",
   "metadata": {},
   "outputs": [
    {
     "data": {
      "text/plain": [
       "[0.8447221974280935,\n",
       " 0.3169021293056259,\n",
       " 0.5536721585086157,\n",
       " 0.8205545119411067,\n",
       " 0.584280351187866,\n",
       " 0.6184744929150805,\n",
       " 0.4872398078787248,\n",
       " 0.6073419201325948,\n",
       " 0.4556564451249576,\n",
       " 0.42991641376704304]"
      ]
     },
     "execution_count": 145,
     "metadata": {},
     "output_type": "execute_result"
    }
   ],
   "source": [
    "ccp_alpha_list = list(np.random.random(10))\n",
    "ccp_alpha_list"
   ]
  },
  {
   "cell_type": "code",
   "execution_count": 146,
   "id": "15928a5a",
   "metadata": {},
   "outputs": [],
   "source": [
    "rf_model = RandomForestClassifier(random_state=10)\n",
    "\n",
    "param_grid = {\n",
    "                \"n_estimators\": np.arange(10,200),\n",
    "                \"criterion\" : ['gini', 'entropy'],\n",
    "                \"max_depth\" : np.arange(3,8),\n",
    "                \"min_samples_split\" : np.arange(4,20),\n",
    "                \"min_samples_leaf\": np.arange(3,10),\n",
    "                \"max_features\" : ['sqrt', 'log2'],\n",
    "                \"oob_score\" : [True],\n",
    "                \"ccp_alpha\" : ccp_alpha_list\n",
    "            }\n",
    "\n",
    "rscv_rf_model = RandomizedSearchCV(rf_model, param_grid, cv = 5)\n",
    "rscv_rf_model.fit(x_train, y_train)\n",
    "rscv_rf_model.best_estimator_\n",
    "\n",
    "model_details.append(\"RF Hyperparameter Tuning\")"
   ]
  },
  {
   "cell_type": "code",
   "execution_count": 147,
   "id": "ce142118",
   "metadata": {
    "scrolled": false
   },
   "outputs": [
    {
     "name": "stdout",
     "output_type": "stream",
     "text": [
      "Confusion Matrix :\n",
      " [[12  0  0]\n",
      " [ 0 13  0]\n",
      " [ 0  1 12]]\n",
      "------------------------------------------------------------------------------------------\n",
      "Multilabel confusion matrix :\n",
      " [[[26  0]\n",
      "  [ 0 12]]\n",
      "\n",
      " [[24  1]\n",
      "  [ 0 13]]\n",
      "\n",
      " [[25  0]\n",
      "  [ 1 12]]]\n",
      "------------------------------------------------------------------------------------------\n",
      "Accuracy : 0.9736842105263158\n",
      "------------------------------------------------------------------------------------------\n",
      "Classification Report :\n",
      "                  precision    recall  f1-score   support\n",
      "\n",
      "    Iris-setosa       1.00      1.00      1.00        12\n",
      "Iris-versicolor       0.93      1.00      0.96        13\n",
      " Iris-virginica       1.00      0.92      0.96        13\n",
      "\n",
      "       accuracy                           0.97        38\n",
      "      macro avg       0.98      0.97      0.97        38\n",
      "   weighted avg       0.98      0.97      0.97        38\n",
      "\n"
     ]
    }
   ],
   "source": [
    "rf_clf = rscv_rf_model.best_estimator_\n",
    "rf_clf.fit(x_train, y_train)                                  # testing data\n",
    "\n",
    "y_pred = rf_clf.predict(x_test)\n",
    "\n",
    "cnf_matrix = confusion_matrix(y_test, y_pred)\n",
    "print(\"Confusion Matrix :\\n\", cnf_matrix)\n",
    "print(\"-\"* 90)\n",
    "\n",
    "multi_cnf_matrix = multilabel_confusion_matrix(y_test, y_pred)\n",
    "print(\"Multilabel confusion matrix :\\n\", multi_cnf_matrix)\n",
    "print(\"-\"* 90)\n",
    "\n",
    "accuracy = accuracy_score(y_test, y_pred)\n",
    "print(\"Accuracy :\", accuracy)\n",
    "print(\"-\"* 90)\n",
    "\n",
    "clf_report = classification_report(y_test, y_pred)\n",
    "print(\"Classification Report :\\n\", clf_report)\n",
    "\n",
    "testing_accuracy_list.append(accuracy)"
   ]
  },
  {
   "cell_type": "code",
   "execution_count": 148,
   "id": "3a861d6e",
   "metadata": {},
   "outputs": [
    {
     "name": "stdout",
     "output_type": "stream",
     "text": [
      "Confusion Matrix :\n",
      " [[38  0  0]\n",
      " [ 0 33  4]\n",
      " [ 0  2 35]]\n",
      "------------------------------------------------------------------------------------------\n",
      "Multilabel confusion matrix :\n",
      " [[[74  0]\n",
      "  [ 0 38]]\n",
      "\n",
      " [[73  2]\n",
      "  [ 4 33]]\n",
      "\n",
      " [[71  4]\n",
      "  [ 2 35]]]\n",
      "------------------------------------------------------------------------------------------\n",
      "Accuracy : 0.9464285714285714\n",
      "------------------------------------------------------------------------------------------\n",
      "Classification Report :\n",
      "                  precision    recall  f1-score   support\n",
      "\n",
      "    Iris-setosa       1.00      1.00      1.00        38\n",
      "Iris-versicolor       0.94      0.89      0.92        37\n",
      " Iris-virginica       0.90      0.95      0.92        37\n",
      "\n",
      "       accuracy                           0.95       112\n",
      "      macro avg       0.95      0.95      0.95       112\n",
      "   weighted avg       0.95      0.95      0.95       112\n",
      "\n"
     ]
    }
   ],
   "source": [
    "y_pred_train = rf_clf.predict(x_train)                                  # training data\n",
    "\n",
    "cnf_matrix = confusion_matrix(y_train, y_pred_train)\n",
    "print(\"Confusion Matrix :\\n\", cnf_matrix)\n",
    "print(\"-\"* 90)\n",
    "\n",
    "multi_cnf_matrix = multilabel_confusion_matrix(y_train, y_pred_train)\n",
    "print(\"Multilabel confusion matrix :\\n\", multi_cnf_matrix)\n",
    "print(\"-\"* 90)\n",
    "\n",
    "accuracy = accuracy_score(y_train, y_pred_train)\n",
    "print(\"Accuracy :\", accuracy)\n",
    "print(\"-\"* 90)\n",
    "\n",
    "clf_report = classification_report(y_train, y_pred_train)\n",
    "print(\"Classification Report :\\n\", clf_report)\n",
    "\n",
    "training_accuracy_list.append(accuracy)"
   ]
  },
  {
   "cell_type": "markdown",
   "id": "d5a2ed71",
   "metadata": {},
   "source": [
    "# AdaBoost Algoritm"
   ]
  },
  {
   "cell_type": "code",
   "execution_count": 149,
   "id": "3a301743",
   "metadata": {},
   "outputs": [],
   "source": [
    "x_train, x_test, y_train, y_test = train_test_split(x,y, test_size=0.2, random_state=30, stratify=y)\n",
    "x_train\n",
    "\n",
    "model_details.append(\"AdaBoost Regular Model\")"
   ]
  },
  {
   "cell_type": "markdown",
   "id": "cfc1e9e8",
   "metadata": {},
   "source": [
    "## Model Building"
   ]
  },
  {
   "cell_type": "code",
   "execution_count": 150,
   "id": "edf0a0fc",
   "metadata": {},
   "outputs": [
    {
     "data": {
      "text/plain": [
       "AdaBoostClassifier(random_state=30)"
      ]
     },
     "execution_count": 150,
     "metadata": {},
     "output_type": "execute_result"
    }
   ],
   "source": [
    "adb_clf = AdaBoostClassifier(random_state=30)\n",
    "adb_clf.fit(x_train, y_train)\n",
    "\n",
    "\n",
    "# base_estimator=None,\n",
    "# n_estimators=50,\n",
    "# learning_rate=1.0,\n",
    "# algorithm='SAMME.R',\n",
    "# random_state=None,"
   ]
  },
  {
   "cell_type": "markdown",
   "id": "2c22d43d",
   "metadata": {},
   "source": [
    "## Model Evaluation"
   ]
  },
  {
   "cell_type": "code",
   "execution_count": 151,
   "id": "1acd478f",
   "metadata": {
    "scrolled": false
   },
   "outputs": [
    {
     "name": "stdout",
     "output_type": "stream",
     "text": [
      "Confusion Matrix :\n",
      " [[10  0  0]\n",
      " [ 0  9  1]\n",
      " [ 0  3  7]]\n",
      "------------------------------------------------------------------------------------------\n",
      "Multilabel confusion matrix :\n",
      " [[[20  0]\n",
      "  [ 0 10]]\n",
      "\n",
      " [[17  3]\n",
      "  [ 1  9]]\n",
      "\n",
      " [[19  1]\n",
      "  [ 3  7]]]\n",
      "------------------------------------------------------------------------------------------\n",
      "Accuracy : 0.8666666666666667\n",
      "------------------------------------------------------------------------------------------\n",
      "Classification Report :\n",
      "                  precision    recall  f1-score   support\n",
      "\n",
      "    Iris-setosa       1.00      1.00      1.00        10\n",
      "Iris-versicolor       0.75      0.90      0.82        10\n",
      " Iris-virginica       0.88      0.70      0.78        10\n",
      "\n",
      "       accuracy                           0.87        30\n",
      "      macro avg       0.88      0.87      0.87        30\n",
      "   weighted avg       0.88      0.87      0.87        30\n",
      "\n"
     ]
    }
   ],
   "source": [
    "y_pred = adb_clf.predict(x_test)                   # testing data\n",
    "\n",
    "cnf_matrix = confusion_matrix(y_test, y_pred)\n",
    "print(\"Confusion Matrix :\\n\", cnf_matrix)\n",
    "print(\"-\"* 90)\n",
    "\n",
    "multi_cnf_matrix = multilabel_confusion_matrix(y_test, y_pred)\n",
    "print(\"Multilabel confusion matrix :\\n\", multi_cnf_matrix)\n",
    "print(\"-\"* 90)\n",
    "\n",
    "accuracy = accuracy_score(y_test, y_pred)\n",
    "print(\"Accuracy :\", accuracy)\n",
    "print(\"-\"* 90)\n",
    "\n",
    "clf_report = classification_report(y_test, y_pred)\n",
    "print(\"Classification Report :\\n\", clf_report)\n",
    "\n",
    "testing_accuracy_list.append(accuracy)"
   ]
  },
  {
   "cell_type": "code",
   "execution_count": 152,
   "id": "6bf2882d",
   "metadata": {},
   "outputs": [
    {
     "name": "stdout",
     "output_type": "stream",
     "text": [
      "Confusion Matrix :\n",
      " [[40  0  0]\n",
      " [ 0 39  1]\n",
      " [ 0  1 39]]\n",
      "------------------------------------------------------------------------------------------\n",
      "Multilabel confusion matrix :\n",
      " [[[80  0]\n",
      "  [ 0 40]]\n",
      "\n",
      " [[79  1]\n",
      "  [ 1 39]]\n",
      "\n",
      " [[79  1]\n",
      "  [ 1 39]]]\n",
      "------------------------------------------------------------------------------------------\n",
      "Accuracy : 0.9833333333333333\n",
      "------------------------------------------------------------------------------------------\n",
      "Classification Report :\n",
      "                  precision    recall  f1-score   support\n",
      "\n",
      "    Iris-setosa       1.00      1.00      1.00        40\n",
      "Iris-versicolor       0.97      0.97      0.97        40\n",
      " Iris-virginica       0.97      0.97      0.97        40\n",
      "\n",
      "       accuracy                           0.98       120\n",
      "      macro avg       0.98      0.98      0.98       120\n",
      "   weighted avg       0.98      0.98      0.98       120\n",
      "\n"
     ]
    }
   ],
   "source": [
    "y_pred_train = adb_clf.predict(x_train)                                  # training data\n",
    "\n",
    "cnf_matrix = confusion_matrix(y_train, y_pred_train)\n",
    "print(\"Confusion Matrix :\\n\", cnf_matrix)\n",
    "print(\"-\"* 90)\n",
    "\n",
    "multi_cnf_matrix = multilabel_confusion_matrix(y_train, y_pred_train)\n",
    "print(\"Multilabel confusion matrix :\\n\", multi_cnf_matrix)\n",
    "print(\"-\"* 90)\n",
    "\n",
    "accuracy = accuracy_score(y_train, y_pred_train)\n",
    "print(\"Accuracy :\", accuracy)\n",
    "print(\"-\"* 90)\n",
    "\n",
    "clf_report = classification_report(y_train, y_pred_train)\n",
    "print(\"Classification Report :\\n\", clf_report)\n",
    "\n",
    "training_accuracy_list.append(accuracy)"
   ]
  },
  {
   "cell_type": "markdown",
   "id": "2ed4f099",
   "metadata": {},
   "source": [
    "# Hyperparameter Tunning"
   ]
  },
  {
   "cell_type": "code",
   "execution_count": 153,
   "id": "10e66997",
   "metadata": {},
   "outputs": [],
   "source": [
    "adb_clf = AdaBoostClassifier(random_state=30)\n",
    "\n",
    "param_grid = {\n",
    "            \"n_estimators\" : np.arange(10,200,2),\n",
    "            \"learning_rate\" : np.arange(0,2,0.001)\n",
    "                }\n",
    "\n",
    "rscv_adb_clf = RandomizedSearchCV(adb_clf, param_grid, cv=7)\n",
    "rscv_adb_clf.fit(x_train, y_train)\n",
    "rscv_adb_clf.best_estimator_\n",
    "\n",
    "model_details.append(\"AdaBoost Hyperparameter Tunning\")"
   ]
  },
  {
   "cell_type": "code",
   "execution_count": 154,
   "id": "e75f9337",
   "metadata": {
    "scrolled": false
   },
   "outputs": [
    {
     "name": "stdout",
     "output_type": "stream",
     "text": [
      "Confusion Matrix :\n",
      " [[10  0  0]\n",
      " [ 0  9  1]\n",
      " [ 0  3  7]]\n",
      "------------------------------------------------------------------------------------------\n",
      "Multilabel confusion matrix :\n",
      " [[[20  0]\n",
      "  [ 0 10]]\n",
      "\n",
      " [[17  3]\n",
      "  [ 1  9]]\n",
      "\n",
      " [[19  1]\n",
      "  [ 3  7]]]\n",
      "------------------------------------------------------------------------------------------\n",
      "Accuracy : 0.8666666666666667\n",
      "------------------------------------------------------------------------------------------\n",
      "Classification Report :\n",
      "                  precision    recall  f1-score   support\n",
      "\n",
      "    Iris-setosa       1.00      1.00      1.00        10\n",
      "Iris-versicolor       0.75      0.90      0.82        10\n",
      " Iris-virginica       0.88      0.70      0.78        10\n",
      "\n",
      "       accuracy                           0.87        30\n",
      "      macro avg       0.88      0.87      0.87        30\n",
      "   weighted avg       0.88      0.87      0.87        30\n",
      "\n"
     ]
    }
   ],
   "source": [
    "adb_clf = rscv_adb_clf.best_estimator_\n",
    "adb_clf.fit(x_train, y_train)                                  # testing data\n",
    "\n",
    "y_pred = adb_clf.predict(x_test)\n",
    "\n",
    "cnf_matrix = confusion_matrix(y_test, y_pred)\n",
    "print(\"Confusion Matrix :\\n\", cnf_matrix)\n",
    "print(\"-\"* 90)\n",
    "\n",
    "multi_cnf_matrix = multilabel_confusion_matrix(y_test, y_pred)\n",
    "print(\"Multilabel confusion matrix :\\n\", multi_cnf_matrix)\n",
    "print(\"-\"* 90)\n",
    "\n",
    "accuracy = accuracy_score(y_test, y_pred)\n",
    "print(\"Accuracy :\", accuracy)\n",
    "print(\"-\"* 90)\n",
    "\n",
    "clf_report = classification_report(y_test, y_pred)\n",
    "print(\"Classification Report :\\n\", clf_report)\n",
    "\n",
    "testing_accuracy_list.append(accuracy)"
   ]
  },
  {
   "cell_type": "code",
   "execution_count": 155,
   "id": "67dbf319",
   "metadata": {},
   "outputs": [
    {
     "name": "stdout",
     "output_type": "stream",
     "text": [
      "Confusion Matrix :\n",
      " [[40  0  0]\n",
      " [ 0 39  1]\n",
      " [ 0  1 39]]\n",
      "------------------------------------------------------------------------------------------\n",
      "Multilabel confusion matrix :\n",
      " [[[80  0]\n",
      "  [ 0 40]]\n",
      "\n",
      " [[79  1]\n",
      "  [ 1 39]]\n",
      "\n",
      " [[79  1]\n",
      "  [ 1 39]]]\n",
      "------------------------------------------------------------------------------------------\n",
      "Accuracy : 0.9833333333333333\n",
      "------------------------------------------------------------------------------------------\n",
      "Classification Report :\n",
      "                  precision    recall  f1-score   support\n",
      "\n",
      "    Iris-setosa       1.00      1.00      1.00        40\n",
      "Iris-versicolor       0.97      0.97      0.97        40\n",
      " Iris-virginica       0.97      0.97      0.97        40\n",
      "\n",
      "       accuracy                           0.98       120\n",
      "      macro avg       0.98      0.98      0.98       120\n",
      "   weighted avg       0.98      0.98      0.98       120\n",
      "\n"
     ]
    }
   ],
   "source": [
    "y_pred_train = adb_clf.predict(x_train)                                  # training data\n",
    "\n",
    "cnf_matrix = confusion_matrix(y_train, y_pred_train)\n",
    "print(\"Confusion Matrix :\\n\", cnf_matrix)\n",
    "print(\"-\"* 90)\n",
    "\n",
    "multi_cnf_matrix = multilabel_confusion_matrix(y_train, y_pred_train)\n",
    "print(\"Multilabel confusion matrix :\\n\", multi_cnf_matrix)\n",
    "print(\"-\"* 90)\n",
    "\n",
    "accuracy = accuracy_score(y_train, y_pred_train)\n",
    "print(\"Accuracy :\", accuracy)\n",
    "print(\"-\"* 90)\n",
    "\n",
    "clf_report = classification_report(y_train, y_pred_train)\n",
    "print(\"Classification Report :\\n\", clf_report)\n",
    "\n",
    "training_accuracy_list.append(accuracy)"
   ]
  },
  {
   "cell_type": "code",
   "execution_count": null,
   "id": "1aef1e2e",
   "metadata": {},
   "outputs": [],
   "source": []
  },
  {
   "cell_type": "code",
   "execution_count": 156,
   "id": "864ea077",
   "metadata": {},
   "outputs": [
    {
     "data": {
      "text/plain": [
       "11"
      ]
     },
     "execution_count": 156,
     "metadata": {},
     "output_type": "execute_result"
    }
   ],
   "source": [
    "len(model_details)"
   ]
  },
  {
   "cell_type": "code",
   "execution_count": 157,
   "id": "23b9031e",
   "metadata": {},
   "outputs": [
    {
     "data": {
      "text/plain": [
       "11"
      ]
     },
     "execution_count": 157,
     "metadata": {},
     "output_type": "execute_result"
    }
   ],
   "source": [
    "len(testing_accuracy_list)"
   ]
  },
  {
   "cell_type": "code",
   "execution_count": 158,
   "id": "d19a0888",
   "metadata": {},
   "outputs": [
    {
     "data": {
      "text/plain": [
       "11"
      ]
     },
     "execution_count": 158,
     "metadata": {},
     "output_type": "execute_result"
    }
   ],
   "source": [
    "len(training_accuracy_list)"
   ]
  },
  {
   "cell_type": "code",
   "execution_count": 159,
   "id": "a0869426",
   "metadata": {
    "scrolled": true
   },
   "outputs": [
    {
     "data": {
      "text/html": [
       "<div>\n",
       "<style scoped>\n",
       "    .dataframe tbody tr th:only-of-type {\n",
       "        vertical-align: middle;\n",
       "    }\n",
       "\n",
       "    .dataframe tbody tr th {\n",
       "        vertical-align: top;\n",
       "    }\n",
       "\n",
       "    .dataframe thead th {\n",
       "        text-align: right;\n",
       "    }\n",
       "</style>\n",
       "<table border=\"1\" class=\"dataframe\">\n",
       "  <thead>\n",
       "    <tr style=\"text-align: right;\">\n",
       "      <th></th>\n",
       "      <th>Models</th>\n",
       "      <th>Testing Accuracy</th>\n",
       "      <th>Training Accuracy</th>\n",
       "    </tr>\n",
       "  </thead>\n",
       "  <tbody>\n",
       "    <tr>\n",
       "      <th>0</th>\n",
       "      <td>Logistic Regular Model</td>\n",
       "      <td>0.966667</td>\n",
       "      <td>0.950000</td>\n",
       "    </tr>\n",
       "    <tr>\n",
       "      <th>1</th>\n",
       "      <td>KNN Regular Model</td>\n",
       "      <td>0.266667</td>\n",
       "      <td>0.350000</td>\n",
       "    </tr>\n",
       "    <tr>\n",
       "      <th>2</th>\n",
       "      <td>KNN Normalization</td>\n",
       "      <td>0.633333</td>\n",
       "      <td>0.800000</td>\n",
       "    </tr>\n",
       "    <tr>\n",
       "      <th>3</th>\n",
       "      <td>KNN Standardization</td>\n",
       "      <td>1.000000</td>\n",
       "      <td>0.958333</td>\n",
       "    </tr>\n",
       "    <tr>\n",
       "      <th>4</th>\n",
       "      <td>KNN Hyperparameter Tuning</td>\n",
       "      <td>1.000000</td>\n",
       "      <td>0.950000</td>\n",
       "    </tr>\n",
       "    <tr>\n",
       "      <th>5</th>\n",
       "      <td>Decision Tree Regular Model</td>\n",
       "      <td>1.000000</td>\n",
       "      <td>1.000000</td>\n",
       "    </tr>\n",
       "    <tr>\n",
       "      <th>6</th>\n",
       "      <td>DT Hyperparameter Tuning</td>\n",
       "      <td>1.000000</td>\n",
       "      <td>0.975000</td>\n",
       "    </tr>\n",
       "    <tr>\n",
       "      <th>7</th>\n",
       "      <td>Random Forest Regular Model</td>\n",
       "      <td>1.000000</td>\n",
       "      <td>1.000000</td>\n",
       "    </tr>\n",
       "    <tr>\n",
       "      <th>8</th>\n",
       "      <td>RF Hyperparameter Tuning</td>\n",
       "      <td>0.973684</td>\n",
       "      <td>0.946429</td>\n",
       "    </tr>\n",
       "    <tr>\n",
       "      <th>9</th>\n",
       "      <td>AdaBoost Regular Model</td>\n",
       "      <td>0.866667</td>\n",
       "      <td>0.983333</td>\n",
       "    </tr>\n",
       "    <tr>\n",
       "      <th>10</th>\n",
       "      <td>AdaBoost Hyperparameter Tunning</td>\n",
       "      <td>0.866667</td>\n",
       "      <td>0.983333</td>\n",
       "    </tr>\n",
       "  </tbody>\n",
       "</table>\n",
       "</div>"
      ],
      "text/plain": [
       "                             Models  Testing Accuracy  Training Accuracy\n",
       "0            Logistic Regular Model          0.966667           0.950000\n",
       "1                 KNN Regular Model          0.266667           0.350000\n",
       "2                 KNN Normalization          0.633333           0.800000\n",
       "3               KNN Standardization          1.000000           0.958333\n",
       "4         KNN Hyperparameter Tuning          1.000000           0.950000\n",
       "5       Decision Tree Regular Model          1.000000           1.000000\n",
       "6          DT Hyperparameter Tuning          1.000000           0.975000\n",
       "7       Random Forest Regular Model          1.000000           1.000000\n",
       "8          RF Hyperparameter Tuning          0.973684           0.946429\n",
       "9            AdaBoost Regular Model          0.866667           0.983333\n",
       "10  AdaBoost Hyperparameter Tunning          0.866667           0.983333"
      ]
     },
     "execution_count": 159,
     "metadata": {},
     "output_type": "execute_result"
    }
   ],
   "source": [
    "comparison_df = pd.DataFrame({\"Models\": model_details, \"Testing Accuracy\": testing_accuracy_list, \"Training Accuracy\": training_accuracy_list})\n",
    "comparison_df"
   ]
  },
  {
   "cell_type": "code",
   "execution_count": 160,
   "id": "42fd9e15",
   "metadata": {},
   "outputs": [
    {
     "data": {
      "text/html": [
       "<div>\n",
       "<style scoped>\n",
       "    .dataframe tbody tr th:only-of-type {\n",
       "        vertical-align: middle;\n",
       "    }\n",
       "\n",
       "    .dataframe tbody tr th {\n",
       "        vertical-align: top;\n",
       "    }\n",
       "\n",
       "    .dataframe thead th {\n",
       "        text-align: right;\n",
       "    }\n",
       "</style>\n",
       "<table border=\"1\" class=\"dataframe\">\n",
       "  <thead>\n",
       "    <tr style=\"text-align: right;\">\n",
       "      <th></th>\n",
       "      <th>Models</th>\n",
       "      <th>Testing Accuracy</th>\n",
       "      <th>Training Accuracy</th>\n",
       "      <th>Difference_in_%</th>\n",
       "    </tr>\n",
       "  </thead>\n",
       "  <tbody>\n",
       "    <tr>\n",
       "      <th>0</th>\n",
       "      <td>Logistic Regular Model</td>\n",
       "      <td>0.966667</td>\n",
       "      <td>0.950000</td>\n",
       "      <td>-1.666667</td>\n",
       "    </tr>\n",
       "    <tr>\n",
       "      <th>1</th>\n",
       "      <td>KNN Regular Model</td>\n",
       "      <td>0.266667</td>\n",
       "      <td>0.350000</td>\n",
       "      <td>8.333333</td>\n",
       "    </tr>\n",
       "    <tr>\n",
       "      <th>2</th>\n",
       "      <td>KNN Normalization</td>\n",
       "      <td>0.633333</td>\n",
       "      <td>0.800000</td>\n",
       "      <td>16.666667</td>\n",
       "    </tr>\n",
       "    <tr>\n",
       "      <th>3</th>\n",
       "      <td>KNN Standardization</td>\n",
       "      <td>1.000000</td>\n",
       "      <td>0.958333</td>\n",
       "      <td>-4.166667</td>\n",
       "    </tr>\n",
       "    <tr>\n",
       "      <th>4</th>\n",
       "      <td>KNN Hyperparameter Tuning</td>\n",
       "      <td>1.000000</td>\n",
       "      <td>0.950000</td>\n",
       "      <td>-5.000000</td>\n",
       "    </tr>\n",
       "    <tr>\n",
       "      <th>5</th>\n",
       "      <td>Decision Tree Regular Model</td>\n",
       "      <td>1.000000</td>\n",
       "      <td>1.000000</td>\n",
       "      <td>0.000000</td>\n",
       "    </tr>\n",
       "    <tr>\n",
       "      <th>6</th>\n",
       "      <td>DT Hyperparameter Tuning</td>\n",
       "      <td>1.000000</td>\n",
       "      <td>0.975000</td>\n",
       "      <td>-2.500000</td>\n",
       "    </tr>\n",
       "    <tr>\n",
       "      <th>7</th>\n",
       "      <td>Random Forest Regular Model</td>\n",
       "      <td>1.000000</td>\n",
       "      <td>1.000000</td>\n",
       "      <td>0.000000</td>\n",
       "    </tr>\n",
       "    <tr>\n",
       "      <th>8</th>\n",
       "      <td>RF Hyperparameter Tuning</td>\n",
       "      <td>0.973684</td>\n",
       "      <td>0.946429</td>\n",
       "      <td>-2.725564</td>\n",
       "    </tr>\n",
       "    <tr>\n",
       "      <th>9</th>\n",
       "      <td>AdaBoost Regular Model</td>\n",
       "      <td>0.866667</td>\n",
       "      <td>0.983333</td>\n",
       "      <td>11.666667</td>\n",
       "    </tr>\n",
       "    <tr>\n",
       "      <th>10</th>\n",
       "      <td>AdaBoost Hyperparameter Tunning</td>\n",
       "      <td>0.866667</td>\n",
       "      <td>0.983333</td>\n",
       "      <td>11.666667</td>\n",
       "    </tr>\n",
       "  </tbody>\n",
       "</table>\n",
       "</div>"
      ],
      "text/plain": [
       "                             Models  Testing Accuracy  Training Accuracy  \\\n",
       "0            Logistic Regular Model          0.966667           0.950000   \n",
       "1                 KNN Regular Model          0.266667           0.350000   \n",
       "2                 KNN Normalization          0.633333           0.800000   \n",
       "3               KNN Standardization          1.000000           0.958333   \n",
       "4         KNN Hyperparameter Tuning          1.000000           0.950000   \n",
       "5       Decision Tree Regular Model          1.000000           1.000000   \n",
       "6          DT Hyperparameter Tuning          1.000000           0.975000   \n",
       "7       Random Forest Regular Model          1.000000           1.000000   \n",
       "8          RF Hyperparameter Tuning          0.973684           0.946429   \n",
       "9            AdaBoost Regular Model          0.866667           0.983333   \n",
       "10  AdaBoost Hyperparameter Tunning          0.866667           0.983333   \n",
       "\n",
       "    Difference_in_%  \n",
       "0         -1.666667  \n",
       "1          8.333333  \n",
       "2         16.666667  \n",
       "3         -4.166667  \n",
       "4         -5.000000  \n",
       "5          0.000000  \n",
       "6         -2.500000  \n",
       "7          0.000000  \n",
       "8         -2.725564  \n",
       "9         11.666667  \n",
       "10        11.666667  "
      ]
     },
     "execution_count": 160,
     "metadata": {},
     "output_type": "execute_result"
    }
   ],
   "source": [
    "comparison_df[\"Difference_in_%\"] = (comparison_df['Training Accuracy'] - comparison_df['Testing Accuracy']) *100\n",
    "comparison_df"
   ]
  },
  {
   "cell_type": "code",
   "execution_count": null,
   "id": "58e51bca",
   "metadata": {},
   "outputs": [],
   "source": []
  },
  {
   "cell_type": "code",
   "execution_count": null,
   "id": "986fe29b",
   "metadata": {},
   "outputs": [],
   "source": []
  },
  {
   "cell_type": "markdown",
   "id": "730d487a",
   "metadata": {},
   "source": [
    "## Single User Input"
   ]
  },
  {
   "cell_type": "code",
   "execution_count": 161,
   "id": "94175d3f",
   "metadata": {},
   "outputs": [
    {
     "data": {
      "text/html": [
       "<div>\n",
       "<style scoped>\n",
       "    .dataframe tbody tr th:only-of-type {\n",
       "        vertical-align: middle;\n",
       "    }\n",
       "\n",
       "    .dataframe tbody tr th {\n",
       "        vertical-align: top;\n",
       "    }\n",
       "\n",
       "    .dataframe thead th {\n",
       "        text-align: right;\n",
       "    }\n",
       "</style>\n",
       "<table border=\"1\" class=\"dataframe\">\n",
       "  <thead>\n",
       "    <tr style=\"text-align: right;\">\n",
       "      <th></th>\n",
       "      <th>0</th>\n",
       "    </tr>\n",
       "  </thead>\n",
       "  <tbody>\n",
       "    <tr>\n",
       "      <th>SepalLengthCm</th>\n",
       "      <td>5.10</td>\n",
       "    </tr>\n",
       "    <tr>\n",
       "      <th>SepalWidthCm</th>\n",
       "      <td>3.05</td>\n",
       "    </tr>\n",
       "    <tr>\n",
       "      <th>PetalLengthCm</th>\n",
       "      <td>1.40</td>\n",
       "    </tr>\n",
       "    <tr>\n",
       "      <th>PetalWidthCm</th>\n",
       "      <td>0.20</td>\n",
       "    </tr>\n",
       "  </tbody>\n",
       "</table>\n",
       "</div>"
      ],
      "text/plain": [
       "                  0\n",
       "SepalLengthCm  5.10\n",
       "SepalWidthCm   3.05\n",
       "PetalLengthCm  1.40\n",
       "PetalWidthCm   0.20"
      ]
     },
     "execution_count": 161,
     "metadata": {},
     "output_type": "execute_result"
    }
   ],
   "source": [
    "x.head(1).T"
   ]
  },
  {
   "cell_type": "code",
   "execution_count": 162,
   "id": "962413d3",
   "metadata": {},
   "outputs": [
    {
     "data": {
      "text/plain": [
       "Index(['SepalLengthCm', 'SepalWidthCm', 'PetalLengthCm', 'PetalWidthCm'], dtype='object')"
      ]
     },
     "execution_count": 162,
     "metadata": {},
     "output_type": "execute_result"
    }
   ],
   "source": [
    "column_names = x.columns\n",
    "column_names"
   ]
  },
  {
   "cell_type": "markdown",
   "id": "69eb0698",
   "metadata": {},
   "source": [
    "## Create Pickle File"
   ]
  },
  {
   "cell_type": "code",
   "execution_count": 163,
   "id": "7f948199",
   "metadata": {},
   "outputs": [],
   "source": [
    "with open(\"Logistic_model.pkl\", \"wb\") as f:\n",
    "    pickle.dump(log_model, f)"
   ]
  },
  {
   "cell_type": "code",
   "execution_count": 164,
   "id": "75f117b6",
   "metadata": {},
   "outputs": [],
   "source": [
    "with open(\"Best Model.pkl\", \"wb\") as f:\n",
    "    pickle.dump(dt_clf, f)"
   ]
  },
  {
   "cell_type": "markdown",
   "id": "b4567093",
   "metadata": {},
   "source": [
    "## Create JSON File"
   ]
  },
  {
   "cell_type": "code",
   "execution_count": 165,
   "id": "2bdd1aea",
   "metadata": {},
   "outputs": [
    {
     "data": {
      "text/plain": [
       "{'columns': ['SepalLengthCm', 'SepalWidthCm', 'PetalLengthCm', 'PetalWidthCm']}"
      ]
     },
     "execution_count": 165,
     "metadata": {},
     "output_type": "execute_result"
    }
   ],
   "source": [
    "json_data = {\"columns\" : list(column_names)}\n",
    "json_data"
   ]
  },
  {
   "cell_type": "code",
   "execution_count": 166,
   "id": "35e63913",
   "metadata": {},
   "outputs": [],
   "source": [
    "with open(\"json_data.json\", \"w\") as f:\n",
    "    json.dump(json_data, f)"
   ]
  },
  {
   "cell_type": "code",
   "execution_count": null,
   "id": "74f63f25",
   "metadata": {},
   "outputs": [],
   "source": []
  },
  {
   "cell_type": "code",
   "execution_count": 167,
   "id": "f7ae1b07",
   "metadata": {},
   "outputs": [],
   "source": [
    "SepalLengthCm = 5.10\n",
    "SepalWidthCm  = 3.05\n",
    "PetalLengthCm = 1.40\n",
    "PetalWidthCm  = 0.20"
   ]
  },
  {
   "cell_type": "code",
   "execution_count": 168,
   "id": "a16f332d",
   "metadata": {},
   "outputs": [
    {
     "data": {
      "text/plain": [
       "array([5.1 , 3.05, 1.4 , 0.2 ])"
      ]
     },
     "execution_count": 168,
     "metadata": {},
     "output_type": "execute_result"
    }
   ],
   "source": [
    "test_array = np.zeros(len(x.columns))\n",
    "\n",
    "test_array[0] = SepalLengthCm\n",
    "test_array[1] = SepalWidthCm\n",
    "test_array[2] = PetalLengthCm\n",
    "test_array[3] = PetalWidthCm\n",
    "\n",
    "test_array"
   ]
  },
  {
   "cell_type": "code",
   "execution_count": 169,
   "id": "2c225f13",
   "metadata": {},
   "outputs": [
    {
     "name": "stdout",
     "output_type": "stream",
     "text": [
      "Species of Flower is : Iris-setosa\n"
     ]
    }
   ],
   "source": [
    "species = log_model.predict([test_array])[0]\n",
    "print(\"Species of Flower is :\", species)"
   ]
  },
  {
   "cell_type": "code",
   "execution_count": 170,
   "id": "34a0796e",
   "metadata": {},
   "outputs": [
    {
     "name": "stdout",
     "output_type": "stream",
     "text": [
      "Species of Flower is : Iris-setosa\n"
     ]
    }
   ],
   "source": [
    "species = dt_clf.predict([test_array])[0]\n",
    "print(\"Species of Flower is :\", species)"
   ]
  },
  {
   "cell_type": "code",
   "execution_count": null,
   "id": "06b4f0ac",
   "metadata": {},
   "outputs": [],
   "source": []
  }
 ],
 "metadata": {
  "kernelspec": {
   "display_name": "Python 3 (ipykernel)",
   "language": "python",
   "name": "python3"
  },
  "language_info": {
   "codemirror_mode": {
    "name": "ipython",
    "version": 3
   },
   "file_extension": ".py",
   "mimetype": "text/x-python",
   "name": "python",
   "nbconvert_exporter": "python",
   "pygments_lexer": "ipython3",
   "version": "3.9.13"
  }
 },
 "nbformat": 4,
 "nbformat_minor": 5
}
